{
 "cells": [
  {
   "cell_type": "code",
   "execution_count": 2,
   "metadata": {},
   "outputs": [
    {
     "name": "stderr",
     "output_type": "stream",
     "text": [
      "[nltk_data] Downloading package stopwords to /Users/jf/nltk_data...\n",
      "[nltk_data]   Package stopwords is already up-to-date!\n"
     ]
    }
   ],
   "source": [
    "# Imports\n",
    "import pandas as pd\n",
    "import numpy as np\n",
    "import seaborn as sns\n",
    "import matplotlib.pyplot as plt\n",
    "import nltk\n",
    "nltk.download('stopwords')\n",
    "\n",
    "\n",
    "from nltk.tokenize import RegexpTokenizer, word_tokenize\n",
    "from nltk.corpus import stopwords, wordnet\n",
    "from nltk.stem import PorterStemmer, WordNetLemmatizer\n",
    "from nltk.tag import pos_tag\n",
    "from nltk.probability import FreqDist\n",
    "from sklearn.model_selection import train_test_split, GridSearchCV\n",
    "from sklearn.pipeline import Pipeline\n",
    "from sklearn.feature_extraction.text import TfidfVectorizer, CountVectorizer\n",
    "from sklearn.linear_model import LogisticRegression, LinearRegression, Ridge\n",
    "from sklearn.tree import DecisionTreeClassifier\n",
    "from sklearn.ensemble import RandomForestClassifier, GradientBoostingRegressor\n",
    "from sklearn.neighbors import KNeighborsClassifier\n",
    "from sklearn.naive_bayes import GaussianNB\n",
    "from sklearn.preprocessing import OneHotEncoder\n",
    "from sklearn.compose import ColumnTransformer, make_column_transformer\n",
    "from sklearn.metrics import accuracy_score, classification_report, confusion_matrix, ConfusionMatrixDisplay\n",
    "from sklearn.model_selection import cross_val_score, cross_val_predict, cross_validate\n",
    "from tqdm import tqdm\n",
    "\n",
    "from tensorflow.keras.layers import Dropout\n",
    "from tensorflow.keras.models import Sequential\n",
    "from tensorflow.keras.layers import Dense"
   ]
  },
  {
   "cell_type": "code",
   "execution_count": 4,
   "metadata": {},
   "outputs": [],
   "source": [
    "# reading in our cleaned and processed data frame\n",
    "df_processed = pd.read_csv('../data/processed_a.csv')\n",
    "# dropping any nulls\n",
    "df_processed.dropna(inplace=True)"
   ]
  },
  {
   "cell_type": "code",
   "execution_count": 10,
   "metadata": {},
   "outputs": [
    {
     "data": {
      "text/plain": [
       "((3921,), (1307,), (3921,), (1307,))"
      ]
     },
     "execution_count": 10,
     "metadata": {},
     "output_type": "execute_result"
    }
   ],
   "source": [
    "#train test split \n",
    "X = df_processed[\"processed_reviews\"]\n",
    "y = df_processed[\"price_range\"]\n",
    "\n",
    "X_train, X_test, y_train, y_test = train_test_split(\n",
    "    X, y, test_size=0.25, random_state=42\n",
    ")\n",
    "\n",
    "#sanity check shape\n",
    "X_train.shape, X_test.shape, y_train.shape, y_test.shape"
   ]
  },
  {
   "cell_type": "code",
   "execution_count": 16,
   "metadata": {},
   "outputs": [
    {
     "data": {
      "text/plain": [
       "2837    2\n",
       "1960    3\n",
       "402     3\n",
       "3354    2\n",
       "2337    0\n",
       "       ..\n",
       "3100    1\n",
       "3780    0\n",
       "5202    1\n",
       "5237    1\n",
       "863     2\n",
       "Name: price_range, Length: 3921, dtype: int64"
      ]
     },
     "execution_count": 16,
     "metadata": {},
     "output_type": "execute_result"
    }
   ],
   "source": [
    "y_train"
   ]
  },
  {
   "cell_type": "code",
   "execution_count": 14,
   "metadata": {},
   "outputs": [
    {
     "ename": "NameError",
     "evalue": "name 'x_train_vec_dense' is not defined",
     "output_type": "error",
     "traceback": [
      "\u001b[0;31m---------------------------------------------------------------------------\u001b[0m",
      "\u001b[0;31mNameError\u001b[0m                                 Traceback (most recent call last)",
      "\u001b[0;32m<ipython-input-14-c1c392439975>\u001b[0m in \u001b[0;36m<module>\u001b[0;34m\u001b[0m\n\u001b[1;32m      9\u001b[0m \u001b[0mX_train_vec_dense\u001b[0m \u001b[0;34m=\u001b[0m \u001b[0mX_train_vec\u001b[0m\u001b[0;34m.\u001b[0m\u001b[0mtodense\u001b[0m\u001b[0;34m(\u001b[0m\u001b[0;34m)\u001b[0m\u001b[0;34m\u001b[0m\u001b[0;34m\u001b[0m\u001b[0m\n\u001b[1;32m     10\u001b[0m \u001b[0mX_test_vec_dense\u001b[0m \u001b[0;34m=\u001b[0m \u001b[0mX_test_vec\u001b[0m\u001b[0;34m.\u001b[0m\u001b[0mtodense\u001b[0m\u001b[0;34m(\u001b[0m\u001b[0;34m)\u001b[0m\u001b[0;34m\u001b[0m\u001b[0;34m\u001b[0m\u001b[0m\n\u001b[0;32m---> 11\u001b[0;31m \u001b[0mx_train_vec_dense\u001b[0m\u001b[0;34m\u001b[0m\u001b[0;34m\u001b[0m\u001b[0m\n\u001b[0m",
      "\u001b[0;31mNameError\u001b[0m: name 'x_train_vec_dense' is not defined"
     ]
    }
   ],
   "source": [
    "# The text data is vectorized using the TF-IDF technique, similar to previous models. \n",
    "# However, the sparse matrix is converted to a dense matrix, which is a requirement \n",
    "# for neural networks in TensorFlow/Keras\n",
    "\n",
    "vectorizer = TfidfVectorizer(stop_words=\"english\")\n",
    "X_train_vec = vectorizer.fit_transform(X_train)\n",
    "X_test_vec = vectorizer.transform(X_test)\n",
    "\n",
    "X_train_vec_dense = X_train_vec.todense()\n",
    "X_test_vec_dense = X_test_vec.todense()"
   ]
  },
  {
   "cell_type": "code",
   "execution_count": 15,
   "metadata": {},
   "outputs": [
    {
     "data": {
      "text/plain": [
       "matrix([[0., 0., 0., ..., 0., 0., 0.],\n",
       "        [0., 0., 0., ..., 0., 0., 0.],\n",
       "        [0., 0., 0., ..., 0., 0., 0.],\n",
       "        ...,\n",
       "        [0., 0., 0., ..., 0., 0., 0.],\n",
       "        [0., 0., 0., ..., 0., 0., 0.],\n",
       "        [0., 0., 0., ..., 0., 0., 0.]])"
      ]
     },
     "execution_count": 15,
     "metadata": {},
     "output_type": "execute_result"
    }
   ],
   "source": [
    "X_train_vec_dense"
   ]
  },
  {
   "cell_type": "code",
   "execution_count": 18,
   "metadata": {},
   "outputs": [
    {
     "name": "stderr",
     "output_type": "stream",
     "text": [
      "/Users/jf/anaconda3/envs/learn-env/lib/python3.8/site-packages/sklearn/preprocessing/_encoders.py:972: FutureWarning: `sparse` was renamed to `sparse_output` in version 1.2 and will be removed in 1.4. `sparse_output` is ignored unless you leave `sparse` to its default value.\n",
      "  warnings.warn(\n"
     ]
    }
   ],
   "source": [
    "encoder = OneHotEncoder(sparse=False)\n",
    "y_train_encoded = encoder.fit_transform(y_train.values.reshape(-1, 1))"
   ]
  },
  {
   "cell_type": "code",
   "execution_count": 20,
   "metadata": {},
   "outputs": [
    {
     "name": "stdout",
     "output_type": "stream",
     "text": [
      "Epoch 1/10\n",
      "3136/3136 [==============================] - 11s 4ms/step - loss: 1.3535 - accuracy: 0.3004 - val_loss: 1.2827 - val_accuracy: 0.4433\n",
      "Epoch 2/10\n",
      "3136/3136 [==============================] - 10s 3ms/step - loss: 1.2372 - accuracy: 0.3935 - val_loss: 1.2003 - val_accuracy: 0.4739\n",
      "Epoch 3/10\n",
      "3136/3136 [==============================] - 10s 3ms/step - loss: 1.1520 - accuracy: 0.4321 - val_loss: 1.1563 - val_accuracy: 0.4662\n",
      "Epoch 4/10\n",
      "3136/3136 [==============================] - 10s 3ms/step - loss: 1.0838 - accuracy: 0.4742 - val_loss: 1.1318 - val_accuracy: 0.4904\n",
      "Epoch 5/10\n",
      "3136/3136 [==============================] - 10s 3ms/step - loss: 1.0166 - accuracy: 0.5102 - val_loss: 1.1114 - val_accuracy: 0.5070\n",
      "Epoch 6/10\n",
      "3136/3136 [==============================] - 10s 3ms/step - loss: 0.9661 - accuracy: 0.5475 - val_loss: 1.1091 - val_accuracy: 0.4968\n",
      "Epoch 7/10\n",
      "3136/3136 [==============================] - 10s 3ms/step - loss: 0.9037 - accuracy: 0.5928 - val_loss: 1.1140 - val_accuracy: 0.4866\n",
      "Epoch 8/10\n",
      "3136/3136 [==============================] - 10s 3ms/step - loss: 0.8510 - accuracy: 0.6110 - val_loss: 1.1165 - val_accuracy: 0.5057\n",
      "Epoch 9/10\n",
      "3136/3136 [==============================] - 10s 3ms/step - loss: 0.8142 - accuracy: 0.6403 - val_loss: 1.1325 - val_accuracy: 0.5032\n",
      "Epoch 10/10\n",
      "3136/3136 [==============================] - 10s 3ms/step - loss: 0.7431 - accuracy: 0.6709 - val_loss: 1.1593 - val_accuracy: 0.5045\n"
     ]
    }
   ],
   "source": [
    "# Model architecture\n",
    "nn = Sequential()\n",
    "nn.add(Dense(10, activation='relu'))\n",
    "nn.add(Dropout(0.5))  # Adding dropout with rate 0.5\n",
    "nn.add(Dense(4, activation='softmax'))\n",
    "\n",
    "# Compilation\n",
    "nn.compile(loss='categorical_crossentropy', \n",
    "              optimizer='adam', \n",
    "              metrics=['accuracy'])\n",
    "\n",
    "# Training\n",
    "nn.fit(X_train_vec_dense, y_train_encoded, epochs=10, batch_size=1, validation_split=0.2);\n"
   ]
  },
  {
   "cell_type": "code",
   "execution_count": null,
   "metadata": {},
   "outputs": [],
   "source": []
  }
 ],
 "metadata": {
  "kernelspec": {
   "display_name": "Python (learn-env)",
   "language": "python",
   "name": "learn-env"
  },
  "language_info": {
   "codemirror_mode": {
    "name": "ipython",
    "version": 3
   },
   "file_extension": ".py",
   "mimetype": "text/x-python",
   "name": "python",
   "nbconvert_exporter": "python",
   "pygments_lexer": "ipython3",
   "version": "3.8.5"
  }
 },
 "nbformat": 4,
 "nbformat_minor": 4
}
