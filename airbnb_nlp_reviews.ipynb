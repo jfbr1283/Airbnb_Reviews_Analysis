{
 "cells": [
  {
   "cell_type": "markdown",
   "metadata": {},
   "source": [
    "# Airbnb Price Analysis - Modeling"
   ]
  },
  {
   "cell_type": "markdown",
   "metadata": {},
   "source": [
    "## Contents\n",
    "\n",
    "1. Overview\n",
    "2. Business Understanding\n",
    "3. The Data\n",
    "4. [Data Preparation](http://localhost:8888/notebooks/data_preparation.ipynb)\n",
    "4. Evaluation Metric\n",
    "5. Modeling\n",
    "    - Overview of Modeling\n",
    "        - Group 1: Reviews\n",
    "            - Logistic Regression (Baseline Model)\n",
    "            - Random Forest Classifier\n",
    "            - K-Nearest Neighbors\n",
    "            - Naive Bayes\n",
    "            - Neural Network\n",
    "        - Group 2: Ratings, Reviews & Neighborhoods\n",
    "            - Logistic Regression\n",
    "            - Random Forest Classifier\n",
    "        - Group 3: All Ratings, Reviews, Neighborhoods, Property Type & Bathrooms\n",
    "            - Logistic Regression\n",
    "            - Random Forest Classifier\n",
    "6. Final Models\n",
    "    - Untuned Logistic Regression\n",
    "    - Tuned Random Forest\n",
    "7. Feature Importances\n",
    "8. Evaluation\n",
    "9. Recommendations & Next Steps"
   ]
  },
  {
   "cell_type": "markdown",
   "metadata": {},
   "source": [
    "## Overview"
   ]
  },
  {
   "cell_type": "markdown",
   "metadata": {},
   "source": [
    "A boutique real estate firm has contracted us out of Manhattan Beach California to help them optimize the Airbnb branch of their business. With hundreds of properties across Los Angeles, this firm wants to ensure that they are maximizing return on each of their properties by setting an optimal per-night price point. With detailed information and numerous written reviews for each of their properties, they wish to uncover whether these written reviews along with other features can be used to set optimal price points."
   ]
  },
  {
   "cell_type": "markdown",
   "metadata": {},
   "source": [
    "## Business Understanding"
   ]
  },
  {
   "cell_type": "markdown",
   "metadata": {},
   "source": [
    "To perform this analysis, we created a classification model to explore whether Airbnb written reviews are reliable predictors for the ‘price per night’ of a given Airbnb listing. Specifically for one-bedroom listings, they occupy most of the Airbnb listings in greater Los Angeles. Based on the results, this analysis will clearly recommend how The Manhattan Beach Group should utilize this model to optimize its price-setting strategy."
   ]
  },
  {
   "cell_type": "markdown",
   "metadata": {},
   "source": [
    "## The Data"
   ]
  },
  {
   "cell_type": "markdown",
   "metadata": {},
   "source": [
    "For this price analysis, we pulled two data sets from [Inside Airbnb](http://insideairbnb.com/get-the-data/). \"Inside Airbnb\" is a website that sources Airbnb data quarterly for cities worldwide. It includes data on listings, reviews, neighborhoods and calendar information. The first data set includes detailed information such as price, number of bedrooms, neighborhoods, property type, and ratings from over 44,000 Airbnb listings in greater Los Angeles. The second data set includes over 1.5 million written reviews corresponding to the listings in the first data set. In our \"Data Preparation\" section we merge these two data sets and filter them down to the features of interest.\n",
    "\n",
    "**How To Get The Data: Apart from the cleaned and processed data (processed_data.csv), the data sets were too large to push to GitHub. Find the relevant download links below:**\n",
    "\n",
    "[Airbnb Listings & Reviews](http://insideairbnb.com/get-the-data/)\n",
    "\n"
   ]
  },
  {
   "cell_type": "markdown",
   "metadata": {},
   "source": [
    "## Evaluation Metric"
   ]
  },
  {
   "cell_type": "markdown",
   "metadata": {},
   "source": [
    "It’s often the case, in a business problem, that we focus on either minimizing false negatives or false positives. In other words, we focus on precision or recall as our evaluation metric.\n",
    "\n",
    "In this case, there’s no distinction between the two as both a false positive and a false negative reflect an inaccurate per-night price point prediction. Because of this, we chose accuracy as our evaluation metric. Accuracy in this case is how well our model predicts the actual per-night price point range of one bedroom listing."
   ]
  },
  {
   "cell_type": "markdown",
   "metadata": {},
   "source": [
    "## MODELING\n",
    "### Modeling Map & Overview"
   ]
  },
  {
   "cell_type": "markdown",
   "metadata": {},
   "source": [
    "We used three different combinations of features for our modeling. Within each combination of features we then ran multiple different types of classfication models. Using GridSearchCV we itterated over each model to get the best possible combination of hyperparamters in order build the most accurate predictive model possible."
   ]
  },
  {
   "cell_type": "markdown",
   "metadata": {},
   "source": [
    "**1. Model Features: Reviews**\n",
    "\n",
    "In this first group of models, the only feature used as a predictor are the tokenized written reviews for each listing.\n",
    "\n",
    "Models Used:\n",
    "\n",
    "- Logistic Regression (Baseline Model)\n",
    "- Random Forest Classifier\n",
    "- K-Nearest Neighbors\n",
    "- Naive Bayes\n",
    "- Neural Network\n",
    "\n",
    "**2. Model Features: Ratings, Reviews & Neighborhoods**\n",
    "\n",
    "Models Used:\n",
    "\n",
    "- Logistic Regression\n",
    "- Random Forest Classifier\n",
    "\n",
    "**3. Model Features: All Ratings, Reviews, Neighborhoods, Property Type & Bathrooms**\n",
    "\n",
    "Models Used:\n",
    "\n",
    "- Logistic Regression\n",
    "- Random Forest Classifier\n",
    "\n",
    "**4. FINAL MODELS**\n",
    "\n"
   ]
  },
  {
   "cell_type": "markdown",
   "metadata": {},
   "source": [
    "### Imports and Prepared Data"
   ]
  },
  {
   "cell_type": "code",
   "execution_count": 7,
   "metadata": {},
   "outputs": [
    {
     "name": "stderr",
     "output_type": "stream",
     "text": [
      "[nltk_data] Downloading package stopwords to /Users/jf/nltk_data...\n",
      "[nltk_data]   Package stopwords is already up-to-date!\n"
     ]
    }
   ],
   "source": [
    "# Imports\n",
    "import pandas as pd\n",
    "import numpy as np\n",
    "import seaborn as sns\n",
    "import matplotlib.pyplot as plt\n",
    "import nltk\n",
    "nltk.download('stopwords')\n",
    "\n",
    "\n",
    "from nltk.tokenize import RegexpTokenizer, word_tokenize\n",
    "from nltk.corpus import stopwords, wordnet\n",
    "from nltk.stem import PorterStemmer, WordNetLemmatizer\n",
    "from nltk.tag import pos_tag\n",
    "from nltk.probability import FreqDist\n",
    "from sklearn.model_selection import train_test_split, GridSearchCV\n",
    "from sklearn.pipeline import Pipeline\n",
    "from sklearn.feature_extraction.text import TfidfVectorizer, CountVectorizer\n",
    "from sklearn.linear_model import LogisticRegression, LinearRegression, Ridge\n",
    "from sklearn.tree import DecisionTreeClassifier\n",
    "from sklearn.ensemble import RandomForestClassifier, GradientBoostingRegressor\n",
    "from sklearn.neighbors import KNeighborsClassifier\n",
    "from sklearn.naive_bayes import GaussianNB\n",
    "from sklearn.preprocessing import OneHotEncoder\n",
    "from sklearn.compose import ColumnTransformer, make_column_transformer\n",
    "from sklearn.metrics import accuracy_score, classification_report, confusion_matrix, ConfusionMatrixDisplay\n",
    "from sklearn.model_selection import cross_val_score, cross_val_predict, cross_validate\n",
    "from tqdm import tqdm"
   ]
  },
  {
   "cell_type": "code",
   "execution_count": 8,
   "metadata": {},
   "outputs": [],
   "source": [
    "# reading in our cleaned and processed data frame\n",
    "df_processed = pd.read_csv('data/processed_a.csv')\n",
    "# dropping any nulls that were carried over\n",
    "df_processed.dropna(inplace=True)"
   ]
  },
  {
   "cell_type": "markdown",
   "metadata": {},
   "source": [
    "## Dummy Model\n",
    "Before we dive into modeling let's create a dummy model using out target varibale `price_range`'s distribution. The dummy model will predict the majority class - in this case class 2 of price ranges: 109 - 149. Because we used the interquartile range to define our price ranges, the distribution across classes will be quite even."
   ]
  },
  {
   "cell_type": "code",
   "execution_count": 3,
   "metadata": {},
   "outputs": [
    {
     "data": {
      "text/plain": [
       "2    0.258225\n",
       "1    0.250000\n",
       "0    0.248661\n",
       "3    0.243114\n",
       "Name: price_range, dtype: float64"
      ]
     },
     "execution_count": 3,
     "metadata": {},
     "output_type": "execute_result"
    }
   ],
   "source": [
    "# return target class distribution\n",
    "df_processed['price_range'].value_counts(normalize=True)"
   ]
  },
  {
   "cell_type": "markdown",
   "metadata": {},
   "source": [
    "### Evaluation\n",
    "Our dummy model accuracy will be exactly 25.8% as it will alwyas predict second class in this case. **Now let's dig into some modeling...**"
   ]
  },
  {
   "cell_type": "markdown",
   "metadata": {},
   "source": [
    "## 1. Model Features: `Reviews`"
   ]
  },
  {
   "cell_type": "markdown",
   "metadata": {},
   "source": [
    "In this first group of models, the only feature used as a predictor are the tokenized written reviews for each listing."
   ]
  },
  {
   "cell_type": "markdown",
   "metadata": {},
   "source": [
    "Models Used:\n",
    "- Linear Regression\n",
    "- Logistic Regression (Baseline Model)\n",
    "- Random Forest Classifier\n",
    "- K-Nearest Neighbors\n",
    "- Naive Bayes\n",
    "- Simple Neural Network"
   ]
  },
  {
   "cell_type": "markdown",
   "metadata": {},
   "source": [
    "### Train Test Split"
   ]
  },
  {
   "cell_type": "code",
   "execution_count": 4,
   "metadata": {},
   "outputs": [
    {
     "data": {
      "text/plain": [
       "((3921,), (1307,), (3921,), (1307,))"
      ]
     },
     "execution_count": 4,
     "metadata": {},
     "output_type": "execute_result"
    }
   ],
   "source": [
    "# train test split \n",
    "X = df_processed[\"processed_reviews\"]\n",
    "y = df_processed[\"price_range\"]\n",
    "\n",
    "X_train, X_test, y_train, y_test = train_test_split(\n",
    "    X, y, test_size=0.25, random_state=42\n",
    ")\n",
    "\n",
    "#sanity check shape\n",
    "X_train.shape, X_test.shape, y_train.shape, y_test.shape"
   ]
  },
  {
   "cell_type": "markdown",
   "metadata": {},
   "source": [
    "### Linear Regression\n",
    "Let's start off by seeing how a simple Linear Regression performs eventhough this is a classification problem now that we've converted our target variable from continuous to discrete."
   ]
  },
  {
   "cell_type": "code",
   "execution_count": 6,
   "metadata": {},
   "outputs": [],
   "source": [
    "# instantiate simple model pipeline with a CountVectorizer\n",
    "pipe_lr = Pipeline([(\"vec\", CountVectorizer()), (\"lreg\", LinearRegression())])\n",
    "\n",
    "# run cross validation on pipeline returning both 'r2' and negative mean squared error scores\n",
    "scores = cross_validate(pipe_lr, X_train, y_train, cv=3, \n",
    "                        scoring=('r2', 'neg_mean_squared_error'),\n",
    "                        return_train_score=True)\n",
    "scores"
   ]
  },
  {
   "cell_type": "code",
   "execution_count": null,
   "metadata": {},
   "outputs": [],
   "source": [
    "# scores\n",
    "\n",
    "# {'fit_time': array([878.05117702, 591.76208997, 739.64259696]), '\n",
    "# score_time': array([2.25494194, 1.80523682, 2.06091213]),\n",
    "# 'test_r2': array([ -178.56458962, -2651.70339649, -5278.74265526]), \n",
    "# 'train_r2': array([0.99903127, 0.99930777, 0.99951327]), \n",
    "# 'test_neg_mean_squared_error': array([-7.30324878e+08, -9.05486962e+09,\n",
    "# -7.63545058e+08]),\n",
    "#  train_neg_mean_squared_error': array([-1723.67717788, -1457.95388423, -\n",
    "# 1820.54631292])}"
   ]
  },
  {
   "cell_type": "markdown",
   "metadata": {},
   "source": [
    "Typically `r^2` scores run from 0 to 1 and the closer to 1 the better the model. The closer to 1, the more variance in the dependant variable is explained by the independant variable. In this case, `price_range` and `reviews` respectively.\n",
    "\n",
    "Seeing as our `r^2` = -178+, an extremely large negative value, we can say conclusively that a Linear Regression model is not appropriate for this classification problem.\n",
    "\n",
    "Let's move onto Logistic Regression and Classification Models."
   ]
  },
  {
   "cell_type": "markdown",
   "metadata": {},
   "source": [
    "### Logistic Regression - BASELINE MODEL"
   ]
  },
  {
   "cell_type": "markdown",
   "metadata": {},
   "source": [
    "Our untuned Logistic Regression serves as our baseline model - a simple model to use as a baseline to improve on. Specifically, it uses a basic vectorizer in `CountVectorizer` and an untuned Logistic Regression estimator."
   ]
  },
  {
   "cell_type": "code",
   "execution_count": 49,
   "metadata": {},
   "outputs": [
    {
     "name": "stderr",
     "output_type": "stream",
     "text": [
      "[Parallel(n_jobs=-3)]: Using backend LokyBackend with 6 concurrent workers.\n",
      "[Parallel(n_jobs=-3)]: Done   2 out of   5 | elapsed:  1.9min remaining:  2.8min\n"
     ]
    },
    {
     "name": "stdout",
     "output_type": "stream",
     "text": [
      "{'fit_time': array([102.56653714, 102.21648002, 105.86000609, 105.87197995,\n",
      "       104.33326411]), 'score_time': array([1.41191792, 1.70204401, 1.63122296, 1.45743322, 1.44440174]), 'test_score': array([0.47073791, 0.44402036, 0.47515924, 0.43949045, 0.47006369]), 'train_score': array([0.99172238, 0.99172238, 0.99267982, 0.99172502, 0.99267982])}\n",
      "0.4598943291032561\n",
      "0.9921058844533936\n"
     ]
    },
    {
     "name": "stderr",
     "output_type": "stream",
     "text": [
      "[Parallel(n_jobs=-3)]: Done   5 out of   5 | elapsed:  1.9min finished\n"
     ]
    }
   ],
   "source": [
    "#instantiate pipeline for basic Logistic Regression with CountVectorizer\n",
    "pipe_logr_base = Pipeline([(\"vec\", CountVectorizer()), (\"lreg\", LogisticRegression(max_iter=10000))])\n",
    "\n",
    "# cross-validate & return scores\n",
    "lr_base_scores = cross_validate(pipe_logr_base, X_train, y_train, \n",
    "                                cv=5, return_train_score=True, verbose=3, n_jobs=-3)\n",
    "                \n",
    "print(lr_base_scores)\n",
    "print(lr_base_scores['test_score'].mean())\n",
    "print(lr_base_scores['train_score'].mean())\n",
    "\n",
    "# Cross-Validation Test Accuracy Score: 45.98%\n",
    "# Cross-Validation Train Accuracy Score: 99.21%"
   ]
  },
  {
   "cell_type": "markdown",
   "metadata": {},
   "source": [
    "### Logistic Regression - Untuned"
   ]
  },
  {
   "cell_type": "markdown",
   "metadata": {},
   "source": [
    "Let's see how our baseline model improves with a more sophisticated vectorizer in `TfidfVectorizer` but still keeping with the **default parameters** of our estimator (untuned).\n",
    "\n",
    "TfidfVectorizer vs. Countvectorizer:\n",
    "- While the basic `CountVectorizer` only focuses on the frequency of tokens, the `TfidfVectorizer` also incorporates the importance of the tokens relative to the corpus, making it more robust and effective when processing text."
   ]
  },
  {
   "cell_type": "code",
   "execution_count": 54,
   "metadata": {},
   "outputs": [
    {
     "name": "stderr",
     "output_type": "stream",
     "text": [
      "[Parallel(n_jobs=-3)]: Using backend LokyBackend with 6 concurrent workers.\n",
      "[Parallel(n_jobs=-3)]: Done   2 out of   5 | elapsed:   24.4s remaining:   36.6s\n"
     ]
    },
    {
     "name": "stdout",
     "output_type": "stream",
     "text": [
      "{'fit_time': array([14.27813888, 13.752316  , 13.73890376, 14.41407108, 14.07380295]), 'score_time': array([1.60528708, 1.75921679, 1.76015735, 1.68640113, 1.68410993]), 'test_score': array([0.51145038, 0.51653944, 0.51719745, 0.49426752, 0.51847134]), 'train_score': array([0.84909265, 0.85036613, 0.84500318, 0.84022915, 0.85200509])}\n",
      "0.5115852255230872\n",
      "0.8473392398963139\n"
     ]
    },
    {
     "name": "stderr",
     "output_type": "stream",
     "text": [
      "[Parallel(n_jobs=-3)]: Done   5 out of   5 | elapsed:   24.9s finished\n"
     ]
    }
   ],
   "source": [
    "# instantiate pipeline for Logistic Regression with TfidfVectorizer\n",
    "pipe_logr = Pipeline([(\"vec\", TfidfVectorizer()), (\"lreg\", LogisticRegression(max_iter=10000))])\n",
    "\n",
    "# cross-validate & return scores\n",
    "lr_scores = cross_validate(pipe_logr, X_train, y_train, \n",
    "                        cv=5, return_train_score=True, verbose=3, n_jobs=-3)\n",
    "print(lr_scores)\n",
    "print(lr_scores['test_score'].mean())\n",
    "print(lr_scores['train_score'].mean())\n",
    "\n",
    "# Cross-Validation Test Accuracy Score: 51.15%\n",
    "# Cross-Validation Train Accuracy Score: 84.73%"
   ]
  },
  {
   "cell_type": "markdown",
   "metadata": {},
   "source": [
    "### Random Forest - Untuned\n",
    "Simple Random Forest Model without gridsearching hyperparameters."
   ]
  },
  {
   "cell_type": "code",
   "execution_count": 35,
   "metadata": {},
   "outputs": [
    {
     "name": "stderr",
     "output_type": "stream",
     "text": [
      "[Parallel(n_jobs=-3)]: Using backend LokyBackend with 6 concurrent workers.\n",
      "[Parallel(n_jobs=-3)]: Done   2 out of   5 | elapsed:   34.0s remaining:   51.0s\n"
     ]
    },
    {
     "name": "stdout",
     "output_type": "stream",
     "text": [
      "{'fit_time': array([23.43206406, 23.97472715, 23.22328997, 23.36877298, 24.07795215]), 'score_time': array([1.67782879, 1.59864712, 1.74338007, 1.64540195, 1.61148214]), 'test_score': array([0.4611465 , 0.47831633, 0.4630102 , 0.4375    , 0.43239796]), 'train_score': array([0.99936224, 0.9987249 , 0.99936245, 0.99936245, 0.9987249 ])}\n",
      "0.4544741973222409\n"
     ]
    },
    {
     "name": "stderr",
     "output_type": "stream",
     "text": [
      "[Parallel(n_jobs=-3)]: Done   5 out of   5 | elapsed:   34.8s finished\n"
     ]
    },
    {
     "ename": "NameError",
     "evalue": "name 'lr_scores' is not defined",
     "output_type": "error",
     "traceback": [
      "\u001b[0;31m---------------------------------------------------------------------------\u001b[0m",
      "\u001b[0;31mNameError\u001b[0m                                 Traceback (most recent call last)",
      "\u001b[0;32m<ipython-input-35-7d83c83ecefa>\u001b[0m in \u001b[0;36m<module>\u001b[0;34m\u001b[0m\n\u001b[1;32m      7\u001b[0m \u001b[0mprint\u001b[0m\u001b[0;34m(\u001b[0m\u001b[0mrf_scores\u001b[0m\u001b[0;34m)\u001b[0m\u001b[0;34m\u001b[0m\u001b[0;34m\u001b[0m\u001b[0m\n\u001b[1;32m      8\u001b[0m \u001b[0mprint\u001b[0m\u001b[0;34m(\u001b[0m\u001b[0mrf_scores\u001b[0m\u001b[0;34m[\u001b[0m\u001b[0;34m'test_score'\u001b[0m\u001b[0;34m]\u001b[0m\u001b[0;34m.\u001b[0m\u001b[0mmean\u001b[0m\u001b[0;34m(\u001b[0m\u001b[0;34m)\u001b[0m\u001b[0;34m)\u001b[0m\u001b[0;34m\u001b[0m\u001b[0;34m\u001b[0m\u001b[0m\n\u001b[0;32m----> 9\u001b[0;31m \u001b[0mprint\u001b[0m\u001b[0;34m(\u001b[0m\u001b[0mlr_scores\u001b[0m\u001b[0;34m[\u001b[0m\u001b[0;34m'train_score'\u001b[0m\u001b[0;34m]\u001b[0m\u001b[0;34m.\u001b[0m\u001b[0mmean\u001b[0m\u001b[0;34m(\u001b[0m\u001b[0;34m)\u001b[0m\u001b[0;34m)\u001b[0m\u001b[0;34m\u001b[0m\u001b[0;34m\u001b[0m\u001b[0m\n\u001b[0m\u001b[1;32m     10\u001b[0m \u001b[0;34m\u001b[0m\u001b[0m\n\u001b[1;32m     11\u001b[0m \u001b[0;31m# Cross-Validation Test Accuracy Score: 45.44%\u001b[0m\u001b[0;34m\u001b[0m\u001b[0;34m\u001b[0m\u001b[0;34m\u001b[0m\u001b[0m\n",
      "\u001b[0;31mNameError\u001b[0m: name 'lr_scores' is not defined"
     ]
    }
   ],
   "source": [
    "# instantiate pipeline for RandomForest with TfidfVectorizer\n",
    "pipe_rf = Pipeline([(\"vec\", TfidfVectorizer()), (\"rf\", RandomForestClassifier(random_state=42))])\n",
    "\n",
    "# cross-validate & return scores\n",
    "rf_scores = cross_validate(pipe_rf, X_train, y_train, \n",
    "                        cv=5, return_train_score=True, verbose=3, n_jobs=-3)\n",
    "print(rf_scores)\n",
    "print(rf_scores['test_score'].mean())\n",
    "print(lr_scores['train_score'].mean())\n",
    "\n",
    "# Cross-Validation Test Accuracy Score: 45.44%\n",
    "# Cross-Validation Train Accuracy Score: 99%"
   ]
  },
  {
   "cell_type": "markdown",
   "metadata": {},
   "source": [
    "### KNN Model - Untuned\n",
    "Simple KNN model without GridSearch."
   ]
  },
  {
   "cell_type": "code",
   "execution_count": 138,
   "metadata": {},
   "outputs": [],
   "source": [
    "# Construct a pipeline with Tfidf vectorizer and the KNN classifier\n",
    "pipe_knn = Pipeline([(\"vec\", TfidfVectorizer()), (\"knn\", KNeighborsClassifier())])\n",
    "\n",
    "# cross-validate & return scores\n",
    "knn_scores = cross_validate(pipe_knn, X_train, y_train, \n",
    "                        cv=5, return_train_score=True, verbose=3, n_jobs=-3)\n",
    "print(knn_scores)\n",
    "print(knn_scores['test_score'].mean())\n",
    "print(knn_scores['train_score'].mean())\n",
    "\n",
    "# Cross-Validation Accuracy Score: 38.76%"
   ]
  },
  {
   "cell_type": "markdown",
   "metadata": {},
   "source": [
    "### Naive Bayes Model - Untuned"
   ]
  },
  {
   "cell_type": "markdown",
   "metadata": {},
   "source": [
    "The Naive Bayes model and TF-IDF Vectorizer cannot be fitted into the same pipeline in this case.\n",
    "This requires separate steps for vectorization and model training."
   ]
  },
  {
   "cell_type": "code",
   "execution_count": 136,
   "metadata": {},
   "outputs": [
    {
     "name": "stderr",
     "output_type": "stream",
     "text": [
      "[Parallel(n_jobs=-3)]: Using backend LokyBackend with 6 concurrent workers.\n",
      "[Parallel(n_jobs=-3)]: Done   2 out of   5 | elapsed:  3.4min remaining:  5.1min\n"
     ]
    },
    {
     "name": "stdout",
     "output_type": "stream",
     "text": [
      "{'fit_time': array([73.93116689, 76.17754698, 76.17768621, 76.17814803, 73.62222886]), 'score_time': array([ 6.40088511, 10.39545608, 10.39448595, 10.40068984,  5.27453017]), 'test_score': array([0.35286624, 0.35586735, 0.35841837, 0.31760204, 0.33163265]), 'train_score': array([0.94355867, 0.94548932, 0.94389544, 0.94612687, 0.93943258])}\n",
      "0.34327733004029637\n",
      "0.9437005775373587\n"
     ]
    },
    {
     "name": "stderr",
     "output_type": "stream",
     "text": [
      "[Parallel(n_jobs=-3)]: Done   5 out of   5 | elapsed:  3.7min finished\n"
     ]
    }
   ],
   "source": [
    "# Initialize the TF-IDF Vectorizer with specified min_df and max_df\n",
    "tf = TfidfVectorizer()\n",
    "\n",
    "# Transform the training and test data using the TF-IDF Vectorizer\n",
    "X_train_tf = tf.fit_transform(X_train.values)\n",
    "X_train_tf = X_train_tf.toarray()\n",
    "X_test_tf = tf.transform(X_test.values)\n",
    "X_test_tf = X_test_tf.toarray()\n",
    "\n",
    "# Initialize the Gaussian Naive Bayes model\n",
    "nb_model = GaussianNB()\n",
    "\n",
    "# cross-validate & return scores\n",
    "nb_scores = cross_validate(nb_model, X_train_tf, y_train, \n",
    "                        cv=5, return_train_score=True, verbose=3, n_jobs=-3)\n",
    "print(nb_scores)\n",
    "print(nb_scores['test_score'].mean())\n",
    "print(nb_scores['train_score'].mean())\n",
    "\n",
    "# Cross-Validation Test Accuracy Score: 34.32%\n",
    "# Cross-Validation Train Accuracy Score: 94.37%"
   ]
  },
  {
   "cell_type": "markdown",
   "metadata": {},
   "source": [
    "### Simple Neural Network"
   ]
  },
  {
   "cell_type": "markdown",
   "metadata": {},
   "source": [
    "Let's create a simple Neural Network and compare its performance."
   ]
  },
  {
   "cell_type": "code",
   "execution_count": null,
   "metadata": {},
   "outputs": [],
   "source": [
    "# vectorize text using Tfidf vecotrizer \n",
    "vectorizer = TfidfVectorizer(stop_words=\"english\")\n",
    "X_train_vec = vectorizer.fit_transform(X_train)\n",
    "X_test_vec = vectorizer.transform(X_test)\n",
    "\n",
    "# sparse matrix is converted to a dense matrix to pass through neural network\n",
    "X_train_vec_dense = X_train_vec.todense()\n",
    "X_test_vec_dense = X_test_vec.todense()\n",
    "\n",
    "# OneHot encode y_train to pass through neural network\n",
    "encoder = OneHotEncoder(sparse=False)\n",
    "y_train_encoded = encoder.fit_transform(y_train.values.reshape(-1, 1))"
   ]
  },
  {
   "cell_type": "code",
   "execution_count": null,
   "metadata": {},
   "outputs": [],
   "source": [
    "# model architecture with dropout rate 0.5\n",
    "nn = Sequential()\n",
    "nn.add(Dense(10, activation='relu'))\n",
    "nn.add(Dropout(0.5))\n",
    "nn.add(Dense(4, activation='softmax'))\n",
    "\n",
    "# compilation\n",
    "nn.compile(loss='categorical_crossentropy', \n",
    "              optimizer='adam', \n",
    "              metrics=['accuracy'])\n",
    "\n",
    "# training\n",
    "nn.fit(X_train_vec_dense, y_train_encoded, epochs=10, batch_size=1, validation_split=0.2);\n",
    "\n",
    "# Accuracy Score = 50.57%"
   ]
  },
  {
   "cell_type": "markdown",
   "metadata": {},
   "source": [
    "### Untuned Models Summary:\n",
    "- The Logistic Regression and Random Forest models performed best with cross-validation accuracy test scores of 51% and 47% respectively. Next, we'll tune each of these models to maximize their accuracy scores."
   ]
  },
  {
   "cell_type": "markdown",
   "metadata": {},
   "source": [
    "### Logistic Regression - GridSearch (18 hour run time)"
   ]
  },
  {
   "cell_type": "markdown",
   "metadata": {},
   "source": [
    "To tune our model we use GridSearchCV to iterate over the hyperparameters of our model to find the best parameters."
   ]
  },
  {
   "cell_type": "code",
   "execution_count": null,
   "metadata": {},
   "outputs": [],
   "source": [
    "# instantiate pipeline for Logistic Regression with Tfidf Vectorizer\n",
    "pipe_logr = Pipeline([(\"vec\", TfidfVectorizer()), (\"lreg\", LogisticRegression())])"
   ]
  },
  {
   "cell_type": "code",
   "execution_count": null,
   "metadata": {},
   "outputs": [],
   "source": [
    "# grid search for hyperparameter tuning the Logistic Regression\n",
    "\n",
    "# define parameter grid for the vectorizer and Logistic Regression\n",
    "log_param_grid = {\n",
    "    'vec__min_df': [0.01, 0.1, 0.2],\n",
    "    'vec__max_df': [0.9, 0.95, 1.0],\n",
    "    'vec__ngram_range': [(1,1), (1,2), (1,3)],\n",
    "    'lreg__penalty': [None, 'l2', 'l1'],\n",
    "    'lreg__class_weight': [None, 'balanced'],\n",
    "    'lreg__solver': ['lbfgs', 'liblinear'],\n",
    "    'lreg__max_iter': [1000, 10000]\n",
    "}\n",
    "\n",
    "# initialize the grid search with relevant parameters\n",
    "log_grid = GridSearchCV(pipe_logr, log_param_grid, cv=5, n_jobs=-2, verbose=3, \n",
    "                        scoring='accuracy', return_train_score=True)\n",
    "\n",
    "# fit the grid search to the training data\n",
    "log_grid.fit(X_train, y_train)\n",
    "\n",
    "# print results\n",
    "print(log_grid.best_params_)\n",
    "print(log_grid.best_score_)\n",
    "print(log_grid.cv_results_)\n",
    "\n",
    "# Cross-Validation Train Accuracy Score: 50%\n",
    "# Cross-Validation Train Accuracy Score: 83%"
   ]
  },
  {
   "cell_type": "code",
   "execution_count": null,
   "metadata": {},
   "outputs": [],
   "source": [
    "# tuned logisitic regression best parameters\n",
    "\n",
    "best_params =\n",
    "{'log__class_weight': None,\n",
    " 'log__max_iter': 1000,\n",
    " 'log__penalty': 'l2',\n",
    " 'log__solver': 'lbfgs',\n",
    " 'vec__max_df': 0.9,\n",
    " 'vec__min_df': 0.05,\n",
    " 'vec__ngram_range': (1, 2)}\n",
    "\n",
    "log_tuned_score = 50.12%"
   ]
  },
  {
   "cell_type": "markdown",
   "metadata": {},
   "source": [
    "**Our tuned Logistic Regression actually performs worse than our default model (default hyperparamters).**\n",
    "- Default score: 51.15%\n",
    "- Tuned sore: 50.12%"
   ]
  },
  {
   "cell_type": "markdown",
   "metadata": {},
   "source": [
    "### Random Forest - GridSearch"
   ]
  },
  {
   "cell_type": "markdown",
   "metadata": {},
   "source": [
    "To tune our model we use GridSearchCV to iterate over the hyperparameters of our model to find the best parameters."
   ]
  },
  {
   "cell_type": "code",
   "execution_count": null,
   "metadata": {},
   "outputs": [],
   "source": [
    "# grid search for hyperparameter tuning the Random Forest model\n",
    "\n",
    "# define parameter grid for the Random Forest model\n",
    "rf_param_grid = {\n",
    "    'rf__n_estimators': [50, 100, 200],\n",
    "    'rf__min_samples_split': [2, 3, 4],\n",
    "    'rf__max_depth': [None, 50, 100],\n",
    "    'rf__class_weight': [None, 'balanced'],   \n",
    "    'vec__ngram_range': [(1, 1), (1, 2)],\n",
    "    'vec__min_df': [0.01, 0.1, 0.2],\n",
    "    'vec__max_df': [0.9, 0.95, 1.0]\n",
    "}\n",
    "\n",
    "# initialize the grid search with relevant parameters\n",
    "forest_grid = GridSearchCV(pipe_rf, rf_param_grid, cv=5, verbose=3, \n",
    "                           scoring='accuracy', n_jobs=-3, return_train_score=True)\n",
    "\n",
    "# fit the grid search to the training data\n",
    "forest_grid.fit(X_train2, y_train2)\n",
    "\n",
    "# print results\n",
    "print(forest_grid.best_params_)\n",
    "print(forest_grid.best_score_)\n",
    "print(forest_grid.cv_results_)"
   ]
  },
  {
   "cell_type": "code",
   "execution_count": 3,
   "metadata": {},
   "outputs": [],
   "source": [
    "# tuned Random Forest best parameters\n",
    "best_params = {\n",
    "    'rf__n_estimators': [50, 100, 200],\n",
    "    'rf__min_samples_split': [2, 3, 4],\n",
    "    'rf__max_depth': [None, 50, 100],\n",
    "    'rf__class_weight': [None, 'balanced'],\n",
    "    'vec__ngram_range': [(1, 1), (1, 2)],\n",
    "    'vec__min_df': [0.01, 0.1, 0.2],\n",
    "    'vec__max_df': [0.9, 0.95, 1.0]\n",
    "}\n",
    "\n",
    "# tuned Random Forest best accuracy score\n",
    "rf_tuned_score = 47.31%"
   ]
  },
  {
   "cell_type": "markdown",
   "metadata": {},
   "source": [
    "### Group 1 Summary:\n",
    "**Best Model**: Untuned Logisitc Regression with `TfidfVectorizer`\n",
    "- CV Test Score: 51%\n",
    "- CV Train Score: 99%\n",
    "\n",
    "Based on our high train scores and significantly lower test scores it is fair to say that our best model is currently **overfit** - in other words it is overfitting to our training data and does not generalize well to new data. \n",
    "\n",
    "Seeing as **tuned Random Forest** was only 4% less acccurate than our best model it will also move onto the second round of modeling.\n",
    "\n",
    "**Approach**: One of the primary ways to reduce overfitting is reducing complexity by droppping features. Though, seeing as our model has only interacted with 'text' data from our written reviews we will actually bring in **more features** to see if our test score can improve and shrink the gap between our train and test results."
   ]
  },
  {
   "cell_type": "markdown",
   "metadata": {},
   "source": [
    "## 2. Modeling: `Reviews`, `Ratings` & `Neighborhoods`"
   ]
  },
  {
   "cell_type": "markdown",
   "metadata": {},
   "source": [
    "Models Used:\n",
    "\n",
    "- Logistic Regression\n",
    "- Random Forest Classifier"
   ]
  },
  {
   "cell_type": "markdown",
   "metadata": {},
   "source": [
    "### Train Test Split (New Features)"
   ]
  },
  {
   "cell_type": "code",
   "execution_count": 25,
   "metadata": {},
   "outputs": [
    {
     "data": {
      "text/plain": [
       "((3921, 3), (1307, 3), (3921,), (1307,))"
      ]
     },
     "execution_count": 25,
     "metadata": {},
     "output_type": "execute_result"
    }
   ],
   "source": [
    "# train test split \n",
    "X = df_processed[[\"processed_reviews\", \"review_scores_rating\", \"neighborhood\"]]\n",
    "y = df_processed[\"price_range\"]\n",
    "\n",
    "X_train2, X_test2, y_train2, y_test2 = train_test_split(\n",
    "    X, y, test_size=0.25, random_state=42\n",
    ")\n",
    "\n",
    "# sanity check shape\n",
    "X_train2.shape, X_test2.shape, y_train2.shape, y_test2.shape"
   ]
  },
  {
   "cell_type": "markdown",
   "metadata": {},
   "source": [
    "### Using `ColumnTransformer` #1"
   ]
  },
  {
   "cell_type": "markdown",
   "metadata": {},
   "source": [
    "Now that we are pulling more features into our models - some of which are categorical - our data is **heterogeneous**. We need to make use of a `ColumnTransfomer` as some features require different processing."
   ]
  },
  {
   "cell_type": "code",
   "execution_count": 26,
   "metadata": {},
   "outputs": [],
   "source": [
    "# Creating column transformer for text and categorical data\n",
    "text_pipeline = Pipeline(steps=[('vec', TfidfVectorizer())])\n",
    "\n",
    "categorical_pipeline = Pipeline(steps=[('ohe', OneHotEncoder(sparse_output=False, handle_unknown='ignore'))])\n",
    "\n",
    "transformer = ColumnTransformer(transformers=[\n",
    "    ('text', text_pipeline, 'processed_reviews'),\n",
    "    ('cat', categorical_pipeline, ['neighborhood'])], remainder='passthrough')"
   ]
  },
  {
   "cell_type": "markdown",
   "metadata": {},
   "source": [
    "### LOGISTIC REGRESSION MODELS"
   ]
  },
  {
   "cell_type": "markdown",
   "metadata": {},
   "source": [
    "### Logistic Regression - Untuned #2"
   ]
  },
  {
   "cell_type": "markdown",
   "metadata": {},
   "source": [
    "We'll first run an untuned Logisitc Regression model with the `ColumnTransformer`."
   ]
  },
  {
   "cell_type": "code",
   "execution_count": 2,
   "metadata": {},
   "outputs": [],
   "source": [
    "# instantiate pipeline for Logistic Regression with ColumnTransformer\n",
    "pipe_log2 = Pipeline([(\"col_tr\", transformer), (\"log\", LogisticRegression(multi_class= 'multinomial', max_iter=10000))])\n",
    "\n",
    "# cross-validate & return scores\n",
    "lr_scores2 = cross_validate(pipe_log2, X_train2, y_train2, \n",
    "                        cv=5, return_train_score=True, verbose=3, n_jobs=-3)\n",
    "\n",
    "# print results\n",
    "print(lr_scores2)\n",
    "print(lr_scores2['test_score'].mean())\n",
    "print(lr_scores2['train_score'].mean())\n",
    "\n",
    "# Cross-Validation Test Accuracy Score: 52.97%\n",
    "# Cross-Validation Train Accuracy Score: 83.86%"
   ]
  },
  {
   "cell_type": "code",
   "execution_count": 18,
   "metadata": {},
   "outputs": [
    {
     "data": {
      "image/png": "[encoded data removed]",
      "text/plain": [
       "<Figure size 432x288 with 2 Axes>"
      ]
     },
     "metadata": {
      "needs_background": "light"
     },
     "output_type": "display_data"
    }
   ],
   "source": [
    "#plot confusion matrix\n",
    "y_pred_log_cv = cross_val_predict(pipe_log2, X_train2, y_train2, cv=5)\n",
    "\n",
    "log_matrix = confusion_matrix(y_train2, y_pred_log_cv)\n",
    "ConfusionMatrixDisplay(log_matrix).plot();"
   ]
  },
  {
   "cell_type": "markdown",
   "metadata": {},
   "source": [
    "### Logistic Regression - GridSearch #2 (18+ Hours to run)"
   ]
  },
  {
   "cell_type": "markdown",
   "metadata": {},
   "source": [
    "Seeing as pulling in more features increased our accuracy to 53%, we will now GridSearch our Logisitic Regression hyperparameters using these new features to see if we improve on that score."
   ]
  },
  {
   "cell_type": "code",
   "execution_count": 4,
   "metadata": {},
   "outputs": [],
   "source": [
    "#Grid search for hyperparameter tuning the Logistic Regression\n",
    "\n",
    "#Define parameter grid for the vectorizer and logistic regression\n",
    "log_param_grid2 = {\n",
    "    'col_tr__text__vec__min_df': [0.01, 0.1, 0.2],\n",
    "    'col_tr__text__vec__max_df': [0.9, 0.95, 1.0],\n",
    "    'col_tr__text__vec__ngram_range': [(1,1), (1,2), (1,3)],\n",
    "    'log__penalty': [None, 'l2', 'l1'],\n",
    "    'log__class_weight': [None, 'balanced'],\n",
    "    'log__solver': ['lbfgs', 'liblinear'],\n",
    "    'log__max_iter': [1000, 10000]\n",
    "}\n",
    "\n",
    "\n",
    "log_grid2 = GridSearchCV(pipe_log2, log_param_grid2, cv=5, n_jobs=-2, verbose=3, \n",
    "                        scoring='accuracy', return_train_score=True)\n",
    "log_grid2.fit(X_train2, y_train2)\n",
    "\n",
    "print(log_grid2.best_params_)\n",
    "print(log_grid2.best_score_)\n",
    "print(log_grid2.cv_results_)\n",
    "\n",
    "# Cross-Validation Test Accuracy Score: 51%\n",
    "# Cross-Validation Train Accuracy Score: 84%"
   ]
  },
  {
   "cell_type": "markdown",
   "metadata": {},
   "source": [
    "**Our tuned Logisitic Regression (51%) is still performing worse than our untuned Logisitc Regression (53%).**"
   ]
  },
  {
   "cell_type": "markdown",
   "metadata": {},
   "source": [
    "### RANDOM FOREST MODELS"
   ]
  },
  {
   "cell_type": "markdown",
   "metadata": {},
   "source": [
    "### Random Forest - Untuned #2"
   ]
  },
  {
   "cell_type": "code",
   "execution_count": 5,
   "metadata": {},
   "outputs": [],
   "source": [
    "# instantiate pipeline for RandomForest Classifier with ColumnTransformer\n",
    "pipe_rf2 = Pipeline([(\"col_tr\", transformer), (\"rf\", RandomForestClassifier(random_state=42))])\n",
    "\n",
    "# cross-validate & return scores\n",
    "rf_scores2 = cross_validate(pipe_rf2, X_train2, y_train2, \n",
    "                        cv=5, return_train_score=True, verbose=3, n_jobs=-3)\n",
    "\n",
    "#print results\n",
    "print(rf_scores2)\n",
    "print(rf_scores2['test_score'].mean())\n",
    "print(rf_scores2['train_score'].mean())\n",
    "\n",
    "# Cross-Validation Test Accuracy Score: 46.28%\n",
    "# Cross-Validation Train Accuracy Score: 100%"
   ]
  },
  {
   "cell_type": "code",
   "execution_count": 21,
   "metadata": {},
   "outputs": [
    {
     "data": {
      "image/png": "[encoded data removed]",
      "text/plain": [
       "<Figure size 432x288 with 2 Axes>"
      ]
     },
     "metadata": {
      "needs_background": "light"
     },
     "output_type": "display_data"
    }
   ],
   "source": [
    "#plot confusion matrix\n",
    "y_pred_rf_cv2 = cross_val_predict(pipe_rf2, X_train2, y_train2, cv=5)\n",
    "\n",
    "rf_conf_mat = confusion_matrix(y_train2, y_pred_rf_cv2)\n",
    "ConfusionMatrixDisplay(rf_conf_mat).plot();"
   ]
  },
  {
   "cell_type": "markdown",
   "metadata": {},
   "source": [
    "### Random Forest - GridSearch #2"
   ]
  },
  {
   "cell_type": "markdown",
   "metadata": {},
   "source": [
    "Though our untuned `RandomForestClassifier` (46%) was 7% less accurate than our `LogisticRegression` (53%), we GridSearch the hyperparameters of the `RandomForestClassifier` in case tuning yields a higher accuracy score."
   ]
  },
  {
   "cell_type": "code",
   "execution_count": null,
   "metadata": {},
   "outputs": [
    {
     "name": "stdout",
     "output_type": "stream",
     "text": [
      "Fitting 5 folds for each of 972 candidates, totalling 4860 fits\n"
     ]
    }
   ],
   "source": [
    "# Grid search for hyperparameter tuning the Random Forest\n",
    "\n",
    "# instantiate pipeline for RandomForest Classifier with ColumnTransformer\n",
    "pipe_rf2 = Pipeline([(\"col_tr\", transformer), (\"rf\", RandomForestClassifier(random_state=42))])\n",
    "\n",
    "# Define parameter grid for the Random Forest Model\n",
    "rf_param_grid = {\n",
    "    'rf__n_estimators': [50, 100, 200],\n",
    "    'rf__min_samples_split': [2, 3, 4],\n",
    "    'rf__max_depth': [None, 50, 100],\n",
    "    'rf__class_weight': [None, 'balanced'],   \n",
    "    'col_tr__text__vec__ngram_range': [(1, 1), (1, 2)],\n",
    "    'col_tr__text__vec__min_df': [0.01, 0.1, 0.2],\n",
    "    'col_tr__text__vec__max_df': [0.9, 0.95, 1.0]\n",
    "}\n",
    "\n",
    "forest_grid = GridSearchCV(pipe_rf2, rf_param_grid, cv=5, verbose=3, scoring='accuracy', \n",
    "                           n_jobs=-3, return_train_score=True)\n",
    "forest_grid.fit(X_train2, y_train2)\n",
    "\n",
    "print(forest_grid.best_params_)\n",
    "print(forest_grid.best_score_)\n",
    "\n",
    "# Cross-Validation Test Accuracy Score: 51.36%\n",
    "# Cross-Validation Train Accuracy Score: 99%"
   ]
  },
  {
   "cell_type": "code",
   "execution_count": null,
   "metadata": {},
   "outputs": [],
   "source": [
    "#plot confusion matrix\n",
    "y_pred_rf_cv = cross_val_predict(rf_best, X_train_m, y_train_m, cv=5)\n",
    "\n",
    "rf_conf_mat = confusion_matrix(y_train_m, y_pred_rf_cv)\n",
    "ConfusionMatrixDisplay(rf_conf_mat).plot();"
   ]
  },
  {
   "cell_type": "markdown",
   "metadata": {},
   "source": [
    "### Group 2 Summary:\n",
    "\n",
    "**Best Model:** Untuned Logisitc Regression\n",
    "\n",
    "- CV Test Score: 53%\n",
    "- CV Train Score: 83%\n",
    "\n",
    "Our tuned Logisitc Regression, **improved by 2%** after adding additional features. It is still overfit with a training score of 83% but the gap between validation and train score has narrowed by 20%. **This could indicate that adding in more features is helping our model.**\n",
    "\n",
    "**Approach:** Seeing as adding in more relevant features has increased our accuracy score (even if only slightly), for our next group of models we will pull in even more features to continue improving our models predictive accuracy."
   ]
  },
  {
   "cell_type": "markdown",
   "metadata": {},
   "source": [
    "## 3. Modeling: All `Ratings`, `Reviews`, `Neighborhoods`, `Property_Type` & `Bathrooms`"
   ]
  },
  {
   "cell_type": "markdown",
   "metadata": {},
   "source": [
    "Models Used:\n",
    "\n",
    "- Logistic Regression\n",
    "- Random Forest Classifier\n"
   ]
  },
  {
   "cell_type": "markdown",
   "metadata": {},
   "source": [
    "### Train Test Split (New Features)\n"
   ]
  },
  {
   "cell_type": "code",
   "execution_count": 9,
   "metadata": {},
   "outputs": [
    {
     "data": {
      "text/plain": [
       "((3921, 11), (1307, 11), (3921,), (1307,))"
      ]
     },
     "execution_count": 9,
     "metadata": {},
     "output_type": "execute_result"
    }
   ],
   "source": [
    "#train test split \n",
    "X = df_processed[[\"processed_reviews\", \"neighborhood\", \"bathrooms\", \"property_type\",\n",
    "                \"review_scores_rating\",\"review_scores_accuracy\", \"review_scores_checkin\", \n",
    "                \"review_scores_communication\", \"review_scores_value\", \"review_scores_location\",\n",
    "                \"review_scores_cleanliness\"]]\n",
    "y = df_processed[\"price_range\"]\n",
    "\n",
    "X_train3, X_test3, y_train3, y_test3 = train_test_split(\n",
    "    X, y, test_size=0.25, random_state=42\n",
    ")\n",
    "\n",
    "#sanity check shape\n",
    "X_train3.shape, X_test3.shape, y_train3.shape, y_test3.shape"
   ]
  },
  {
   "cell_type": "markdown",
   "metadata": {},
   "source": [
    "### `ColumnTransformer` #2"
   ]
  },
  {
   "cell_type": "markdown",
   "metadata": {},
   "source": [
    "Let's create a new column transformer for this batch of models."
   ]
  },
  {
   "cell_type": "code",
   "execution_count": 10,
   "metadata": {},
   "outputs": [],
   "source": [
    "# Creating column transformer for text and categorical data\n",
    "text_pipeline = Pipeline(steps=[('vec', TfidfVectorizer())])\n",
    "\n",
    "categorical_pipeline = Pipeline(steps=[('ohe', OneHotEncoder(sparse_output=False, handle_unknown='ignore'))])\n",
    "\n",
    "transformer2 = ColumnTransformer(transformers=[\n",
    "    ('text', text_pipeline, 'processed_reviews'),\n",
    "    ('cat', categorical_pipeline, ['neighborhood', 'property_type'])], remainder='passthrough')"
   ]
  },
  {
   "cell_type": "markdown",
   "metadata": {},
   "source": [
    "### LOGISTIC REGRESSION MODELS"
   ]
  },
  {
   "cell_type": "markdown",
   "metadata": {},
   "source": [
    "### Logistic Regression - Untuned #3"
   ]
  },
  {
   "cell_type": "code",
   "execution_count": 148,
   "metadata": {},
   "outputs": [
    {
     "name": "stderr",
     "output_type": "stream",
     "text": [
      "[Parallel(n_jobs=-3)]: Using backend LokyBackend with 6 concurrent workers.\n",
      "[Parallel(n_jobs=-3)]: Done   2 out of   5 | elapsed:   51.5s remaining:  1.3min\n"
     ]
    },
    {
     "name": "stdout",
     "output_type": "stream",
     "text": [
      "{'fit_time': array([46.35286093, 45.84984708, 44.37266994, 45.52737927, 47.22150016]), 'score_time': array([1.10013509, 1.09791112, 1.22455788, 1.05668688, 1.070889  ]), 'test_score': array([0.53121019, 0.54336735, 0.53571429, 0.55357143, 0.54336735]), 'train_score': array([0.83418367, 0.83009245, 0.83041122, 0.82371693, 0.83519286])}\n",
      "0.5414461198492135\n",
      "0.8307194251624782\n"
     ]
    },
    {
     "name": "stderr",
     "output_type": "stream",
     "text": [
      "[Parallel(n_jobs=-3)]: Done   5 out of   5 | elapsed:   52.6s finished\n"
     ]
    }
   ],
   "source": [
    "# instantiate pipeline for Logistic Regression with ColumnTransformer\n",
    "pipe_log3 = Pipeline([(\"col_tr\", transformer2), (\"log\", LogisticRegression(multi_class= 'multinomial', max_iter=10000))])\n",
    "\n",
    "# cross-validate & return scores\n",
    "lr_scores3 = cross_validate(pipe_log3, X_train3, y_train3, \n",
    "                        cv=5, return_train_score=True, verbose=3, n_jobs=-3)\n",
    "\n",
    "# print results\n",
    "print(lr_scores3)\n",
    "print(lr_scores3['test_score'].mean())\n",
    "print(lr_scores3['train_score'].mean())\n",
    "\n",
    "# Cross-Validation Test Accuracy Score: 54.14%\n",
    "# Cross-Validation Train Accuracy Score: 83.07%"
   ]
  },
  {
   "cell_type": "markdown",
   "metadata": {},
   "source": [
    "**- Train Accuracy Score: 83%**\n",
    "<br>\n",
    "**- CV Test Accuracy Score: 54%**"
   ]
  },
  {
   "cell_type": "code",
   "execution_count": 35,
   "metadata": {},
   "outputs": [
    {
     "data": {
      "image/png": "[encoded data removed]",
      "text/plain": [
       "<Figure size 432x288 with 2 Axes>"
      ]
     },
     "metadata": {
      "needs_background": "light"
     },
     "output_type": "display_data"
    }
   ],
   "source": [
    "#plot confusion matrix\n",
    "y_pred_log_cv = cross_val_predict(pipe_log3, X_train3, y_train3, cv=5)\n",
    "\n",
    "log_matrix = confusion_matrix(y_train3, y_pred_log_cv)\n",
    "ConfusionMatrixDisplay(log_matrix).plot();"
   ]
  },
  {
   "cell_type": "markdown",
   "metadata": {},
   "source": [
    "**Though our overall Accuracy score is 54%, if we look deeper, based on the above confusion matrix, our Accuracy for both the first and fourth class of price range is near 70%.**"
   ]
  },
  {
   "cell_type": "markdown",
   "metadata": {},
   "source": [
    "### Logistic Regression - GridSearch #3"
   ]
  },
  {
   "cell_type": "code",
   "execution_count": 1,
   "metadata": {},
   "outputs": [],
   "source": [
    "pipe_log3 = Pipeline([(\"col_tr\", transformer2), (\"log\", LogisticRegression(multi_class= 'multinomial', max_iter=10000))])\n",
    "\n",
    "log_param_grid3 = {\n",
    "    'col_tr__text__vec__min_df': [0.01, 0.1, 0.2],\n",
    "    'col_tr__text__vec__max_df': [0.9, 0.95, 1.0],\n",
    "    'col_tr__text__vec__ngram_range': [(1,1), (1,2), (1,3)],\n",
    "    'log__penalty': [None, 'l2', 'l1'],\n",
    "    'log__class_weight': [None, 'balanced'],\n",
    "    'log__solver': ['lbfgs', 'liblinear'],\n",
    "    'log__max_iter': [1000, 10000]}\n",
    "\n",
    "\n",
    "log_grid3 = GridSearchCV(pipe_log3, log_param_grid3, cv=5, n_jobs=-2, verbose=3, \n",
    "                        scoring='accuracy', return_train_score=True)\n",
    "log_grid3.fit(X_train3, y_train3)\n",
    "\n",
    "print(log_grid3.best_params_)\n",
    "print(log_grid3.best_score_)\n",
    "print(log_grid3.cv_results_)"
   ]
  },
  {
   "cell_type": "markdown",
   "metadata": {},
   "source": [
    "Let's see how our `RandomForestClassifier` performs with the new features:"
   ]
  },
  {
   "cell_type": "markdown",
   "metadata": {},
   "source": [
    "### RANDOM FOREST MODELS"
   ]
  },
  {
   "cell_type": "markdown",
   "metadata": {},
   "source": [
    "### Random Forest - Untuned #3"
   ]
  },
  {
   "cell_type": "code",
   "execution_count": 38,
   "metadata": {},
   "outputs": [
    {
     "name": "stderr",
     "output_type": "stream",
     "text": [
      "[Parallel(n_jobs=-3)]: Using backend LokyBackend with 6 concurrent workers.\n",
      "[Parallel(n_jobs=-3)]: Done   2 out of   5 | elapsed:   30.6s remaining:   45.9s\n"
     ]
    },
    {
     "name": "stdout",
     "output_type": "stream",
     "text": [
      "{'fit_time': array([21.82319999, 21.96129727, 21.58473516, 21.75527287, 22.150424  ]), 'score_time': array([1.724051  , 1.67461991, 1.8155787 , 1.74916601, 1.69965601]), 'test_score': array([0.46624204, 0.50637755, 0.47066327, 0.49872449, 0.45153061]), 'train_score': array([1., 1., 1., 1., 1.])}\n",
      "0.4787075913167815\n",
      "1.0\n"
     ]
    },
    {
     "name": "stderr",
     "output_type": "stream",
     "text": [
      "[Parallel(n_jobs=-3)]: Done   5 out of   5 | elapsed:   31.4s finished\n"
     ]
    }
   ],
   "source": [
    "# instantiate pipeline for RandomForest Classifier with ColumnTransformer\n",
    "pipe_rf3 = Pipeline([(\"col_tr\", transformer2), (\"rf\", RandomForestClassifier(random_state=42))])\n",
    "\n",
    "# cross-validate & return scores\n",
    "rf_scores3 = cross_validate(pipe_rf3, X_train3, y_train3, \n",
    "                        cv=5, return_train_score=True, verbose=3, n_jobs=-3)\n",
    "print(rf_scores3)\n",
    "print(rf_scores3['test_score'].mean())\n",
    "print(rf_scores3['train_score'].mean())\n",
    "\n",
    "# Cross-Validation Test Accuracy Score: 47.87%\n",
    "# Cross-Validation Train Accuracy Score: 100%"
   ]
  },
  {
   "cell_type": "code",
   "execution_count": 38,
   "metadata": {},
   "outputs": [
    {
     "data": {
      "image/png": "[encoded data removed]",
      "text/plain": [
       "<Figure size 432x288 with 2 Axes>"
      ]
     },
     "metadata": {
      "needs_background": "light"
     },
     "output_type": "display_data"
    }
   ],
   "source": [
    "#plot confusion matrix\n",
    "y_pred_rf_cv3 = cross_val_predict(pipe_rf3, X_train3, y_train3, cv=5)\n",
    "\n",
    "rf_conf_mat = confusion_matrix(y_train3, y_pred_rf_cv3)\n",
    "ConfusionMatrixDisplay(rf_conf_mat).plot();"
   ]
  },
  {
   "cell_type": "markdown",
   "metadata": {},
   "source": [
    "### Random Forest - GridSearch #3"
   ]
  },
  {
   "cell_type": "code",
   "execution_count": 6,
   "metadata": {},
   "outputs": [],
   "source": [
    "# instantiate pipeline for RandomForest Classifier with ColumnTransformer\n",
    "pipe_rf3 = Pipeline([(\"col_tr\", transformer2), (\"rf\", RandomForestClassifier(random_state=42))])"
   ]
  },
  {
   "cell_type": "code",
   "execution_count": null,
   "metadata": {},
   "outputs": [],
   "source": [
    "# Grid search for hyperparameter tuning the Random Forest\n",
    "\n",
    "# Define parameter grid for the Random Forest Model\n",
    "rf_param_grid = {\n",
    "    'rf__n_estimators': [50, 100, 200], \n",
    "    'rf__min_samples_split': [2, 3, 4], \n",
    "    'rf__max_depth': [None, 50, 100], \n",
    "    'rf__class_weight': [None, 'balanced'], \n",
    "    'col_tr__text__vec__ngram_range': [(1, 1), (1, 2)], \n",
    "    'col_tr__text__vec__min_df': [0.01, 0.1, 0.2], \n",
    "    'col_tr__text__vec__max_df': [0.9, 0.95, 1.0]\n",
    "}\n",
    "\n",
    "# Instantiate GridSearch and fit it to training data\n",
    "forest_grid = GridSearchCV(pipe_rf3, rf_param_grid, cv=5, verbose=3, scoring='accuracy')\n",
    "forest_grid.fit(X_train3, y_train3)"
   ]
  },
  {
   "cell_type": "code",
   "execution_count": null,
   "metadata": {},
   "outputs": [],
   "source": [
    "# tuned Random Forest best parameters #BEFORE CHANGES\n",
    "rf_best_params = { \n",
    "    'col_tr__text__vec__max_df': 0.9, \n",
    "    'col_tr__text__vec__min_df': 0.1, \n",
    "    'col_tr__text__vec__ngram_range': (1, 1), \n",
    "    'rf__class_weight': None, \n",
    "    'rf__max_depth': 100, \n",
    "    'rf__min_samples_split': 2, \n",
    "    'rf__n_estimators': 200\n",
    "}\n",
    "\n",
    "# tuned Random Forest best accuracy score\n",
    "rf_tuned_score = 52.55%"
   ]
  },
  {
   "cell_type": "markdown",
   "metadata": {},
   "source": [
    "### Random Forest  - GridSearch #3 (2nd round)\n",
    "We now improve on the GridSearch above by tuning specific paramters based on the above results. For example, we notice that the best 'number of estimators' from the first GridSearch is 200 - which is the maximum value of our range for this parameter. We no set a range of 200 to 300 for that hyperparameter."
   ]
  },
  {
   "cell_type": "code",
   "execution_count": 11,
   "metadata": {},
   "outputs": [],
   "source": [
    "# instantiate pipeline for RandomForest Classifier with ColumnTransformer\n",
    "pipe_rf3 = Pipeline([(\"col_tr\", transformer2), (\"rf\", RandomForestClassifier(random_state=42))])"
   ]
  },
  {
   "cell_type": "code",
   "execution_count": null,
   "metadata": {},
   "outputs": [],
   "source": [
    "# # Improve on the first GridSearch above. #BEFORE CHANGES\n",
    "# # Define parameter grid for the Random Forest Model\n",
    "# rf_param_grid2 = {\n",
    "#     'rf__n_estimators': [200, 250, 300], \n",
    "#     'rf__min_samples_split': [2], \n",
    "#     'rf__max_depth': [100, 200, 300], \n",
    "#     'rf__class_weight': [None], \n",
    "#     'col_tr__text__vec__ngram_range': [(1, 1)], \n",
    "#     'col_tr__text__vec__min_df': [0.1], \n",
    "#     'col_tr__text__vec__max_df': [.75, .8, 0.9] \n",
    "# }\n",
    "\n",
    "# # Instantiate GridSearch and fit it to training data\n",
    "# forest_grid2 = GridSearchCV(pipe_rf3, rf_param_grid2, cv=5, verbose=3, scoring='accuracy'\n",
    "# forest_grid2.fit(X_train3, y_train3)"
   ]
  },
  {
   "cell_type": "code",
   "execution_count": null,
   "metadata": {},
   "outputs": [],
   "source": [
    "# # tuned Random Forest best parameters #BEFORE CHANGES\n",
    "# rf_best_params = {\n",
    "# 'col_tr__text__vec__max_df': 0.75,\n",
    "# 'col_tr__text__vec__min_df': 0.1,\n",
    "# 'col_tr__text__vec__ngram_range': (1, 1),\n",
    "# 'rf__class_weight': None, \n",
    "# 'rf__max_depth': 100,\n",
    "# 'rf__min_samples_split': 2,\n",
    "# 'rf__n_estimators': 300\n",
    "# }\n",
    "\n",
    "# # tuned Random Forest best accuracy score\n",
    "# rf_cv_test_score = 52.79%\n",
    "# rf_cv_train_score = 100%"
   ]
  },
  {
   "cell_type": "markdown",
   "metadata": {},
   "source": [
    "### Let's dig into the `max_depth` parameter\n",
    "By tuning `max_depth` we're hoping to address the overfitting of our RandomForestClassifier. It's training score continues to hover around 100% when it's test score is around 50%. Because we were previously letting the model go so deep with it's splits, it's no surprise that it was so overfit. We imagine that working with smaller `max_depth` values, the model will be significantly less overfit."
   ]
  },
  {
   "cell_type": "code",
   "execution_count": 22,
   "metadata": {},
   "outputs": [
    {
     "name": "stdout",
     "output_type": "stream",
     "text": [
      "Fitting 5 folds for each of 3 candidates, totalling 15 fits\n",
      "[CV 1/5] END col_tr__text__vec__max_df=0.75, col_tr__text__vec__min_df=0.1, col_tr__text__vec__ngram_range=(1, 1), rf__class_weight=None, rf__max_depth=2, rf__min_samples_split=2, rf__n_estimators=300;, score=(train=0.526, test=0.460) total time=   6.1s\n",
      "[CV 2/5] END col_tr__text__vec__max_df=0.75, col_tr__text__vec__min_df=0.1, col_tr__text__vec__ngram_range=(1, 1), rf__class_weight=None, rf__max_depth=2, rf__min_samples_split=2, rf__n_estimators=300;, score=(train=0.500, test=0.487) total time=   6.0s\n",
      "[CV 3/5] END col_tr__text__vec__max_df=0.75, col_tr__text__vec__min_df=0.1, col_tr__text__vec__ngram_range=(1, 1), rf__class_weight=None, rf__max_depth=2, rf__min_samples_split=2, rf__n_estimators=300;, score=(train=0.517, test=0.444) total time=   6.0s\n",
      "[CV 4/5] END col_tr__text__vec__max_df=0.75, col_tr__text__vec__min_df=0.1, col_tr__text__vec__ngram_range=(1, 1), rf__class_weight=None, rf__max_depth=2, rf__min_samples_split=2, rf__n_estimators=300;, score=(train=0.512, test=0.453) total time=   5.9s\n",
      "[CV 5/5] END col_tr__text__vec__max_df=0.75, col_tr__text__vec__min_df=0.1, col_tr__text__vec__ngram_range=(1, 1), rf__class_weight=None, rf__max_depth=2, rf__min_samples_split=2, rf__n_estimators=300;, score=(train=0.525, test=0.490) total time=   6.0s\n",
      "[CV 1/5] END col_tr__text__vec__max_df=0.75, col_tr__text__vec__min_df=0.1, col_tr__text__vec__ngram_range=(1, 1), rf__class_weight=None, rf__max_depth=5, rf__min_samples_split=2, rf__n_estimators=300;, score=(train=0.707, test=0.494) total time=   8.3s\n",
      "[CV 2/5] END col_tr__text__vec__max_df=0.75, col_tr__text__vec__min_df=0.1, col_tr__text__vec__ngram_range=(1, 1), rf__class_weight=None, rf__max_depth=5, rf__min_samples_split=2, rf__n_estimators=300;, score=(train=0.721, test=0.546) total time=   8.1s\n",
      "[CV 3/5] END col_tr__text__vec__max_df=0.75, col_tr__text__vec__min_df=0.1, col_tr__text__vec__ngram_range=(1, 1), rf__class_weight=None, rf__max_depth=5, rf__min_samples_split=2, rf__n_estimators=300;, score=(train=0.705, test=0.495) total time=   8.0s\n",
      "[CV 4/5] END col_tr__text__vec__max_df=0.75, col_tr__text__vec__min_df=0.1, col_tr__text__vec__ngram_range=(1, 1), rf__class_weight=None, rf__max_depth=5, rf__min_samples_split=2, rf__n_estimators=300;, score=(train=0.712, test=0.482) total time=   8.3s\n",
      "[CV 5/5] END col_tr__text__vec__max_df=0.75, col_tr__text__vec__min_df=0.1, col_tr__text__vec__ngram_range=(1, 1), rf__class_weight=None, rf__max_depth=5, rf__min_samples_split=2, rf__n_estimators=300;, score=(train=0.717, test=0.504) total time=   7.9s\n",
      "[CV 1/5] END col_tr__text__vec__max_df=0.75, col_tr__text__vec__min_df=0.1, col_tr__text__vec__ngram_range=(1, 1), rf__class_weight=None, rf__max_depth=10, rf__min_samples_split=2, rf__n_estimators=300;, score=(train=0.935, test=0.504) total time=  10.8s\n",
      "[CV 2/5] END col_tr__text__vec__max_df=0.75, col_tr__text__vec__min_df=0.1, col_tr__text__vec__ngram_range=(1, 1), rf__class_weight=None, rf__max_depth=10, rf__min_samples_split=2, rf__n_estimators=300;, score=(train=0.931, test=0.552) total time=  11.1s\n",
      "[CV 3/5] END col_tr__text__vec__max_df=0.75, col_tr__text__vec__min_df=0.1, col_tr__text__vec__ngram_range=(1, 1), rf__class_weight=None, rf__max_depth=10, rf__min_samples_split=2, rf__n_estimators=300;, score=(train=0.929, test=0.506) total time=  11.3s\n",
      "[CV 4/5] END col_tr__text__vec__max_df=0.75, col_tr__text__vec__min_df=0.1, col_tr__text__vec__ngram_range=(1, 1), rf__class_weight=None, rf__max_depth=10, rf__min_samples_split=2, rf__n_estimators=300;, score=(train=0.926, test=0.503) total time=  11.2s\n",
      "[CV 5/5] END col_tr__text__vec__max_df=0.75, col_tr__text__vec__min_df=0.1, col_tr__text__vec__ngram_range=(1, 1), rf__class_weight=None, rf__max_depth=10, rf__min_samples_split=2, rf__n_estimators=300;, score=(train=0.935, test=0.508) total time=  11.2s\n"
     ]
    },
    {
     "data": {
      "text/html": [
       "<style>#sk-container-id-6 {color: black;}#sk-container-id-6 pre{padding: 0;}#sk-container-id-6 div.sk-toggleable {background-color: white;}#sk-container-id-6 label.sk-toggleable__label {cursor: pointer;display: block;width: 100%;margin-bottom: 0;padding: 0.3em;box-sizing: border-box;text-align: center;}#sk-container-id-6 label.sk-toggleable__label-arrow:before {content: \"▸\";float: left;margin-right: 0.25em;color: #696969;}#sk-container-id-6 label.sk-toggleable__label-arrow:hover:before {color: black;}#sk-container-id-6 div.sk-estimator:hover label.sk-toggleable__label-arrow:before {color: black;}#sk-container-id-6 div.sk-toggleable__content {max-height: 0;max-width: 0;overflow: hidden;text-align: left;background-color: #f0f8ff;}#sk-container-id-6 div.sk-toggleable__content pre {margin: 0.2em;color: black;border-radius: 0.25em;background-color: #f0f8ff;}#sk-container-id-6 input.sk-toggleable__control:checked~div.sk-toggleable__content {max-height: 200px;max-width: 100%;overflow: auto;}#sk-container-id-6 input.sk-toggleable__control:checked~label.sk-toggleable__label-arrow:before {content: \"▾\";}#sk-container-id-6 div.sk-estimator input.sk-toggleable__control:checked~label.sk-toggleable__label {background-color: #d4ebff;}#sk-container-id-6 div.sk-label input.sk-toggleable__control:checked~label.sk-toggleable__label {background-color: #d4ebff;}#sk-container-id-6 input.sk-hidden--visually {border: 0;clip: rect(1px 1px 1px 1px);clip: rect(1px, 1px, 1px, 1px);height: 1px;margin: -1px;overflow: hidden;padding: 0;position: absolute;width: 1px;}#sk-container-id-6 div.sk-estimator {font-family: monospace;background-color: #f0f8ff;border: 1px dotted black;border-radius: 0.25em;box-sizing: border-box;margin-bottom: 0.5em;}#sk-container-id-6 div.sk-estimator:hover {background-color: #d4ebff;}#sk-container-id-6 div.sk-parallel-item::after {content: \"\";width: 100%;border-bottom: 1px solid gray;flex-grow: 1;}#sk-container-id-6 div.sk-label:hover label.sk-toggleable__label {background-color: #d4ebff;}#sk-container-id-6 div.sk-serial::before {content: \"\";position: absolute;border-left: 1px solid gray;box-sizing: border-box;top: 0;bottom: 0;left: 50%;z-index: 0;}#sk-container-id-6 div.sk-serial {display: flex;flex-direction: column;align-items: center;background-color: white;padding-right: 0.2em;padding-left: 0.2em;position: relative;}#sk-container-id-6 div.sk-item {position: relative;z-index: 1;}#sk-container-id-6 div.sk-parallel {display: flex;align-items: stretch;justify-content: center;background-color: white;position: relative;}#sk-container-id-6 div.sk-item::before, #sk-container-id-6 div.sk-parallel-item::before {content: \"\";position: absolute;border-left: 1px solid gray;box-sizing: border-box;top: 0;bottom: 0;left: 50%;z-index: -1;}#sk-container-id-6 div.sk-parallel-item {display: flex;flex-direction: column;z-index: 1;position: relative;background-color: white;}#sk-container-id-6 div.sk-parallel-item:first-child::after {align-self: flex-end;width: 50%;}#sk-container-id-6 div.sk-parallel-item:last-child::after {align-self: flex-start;width: 50%;}#sk-container-id-6 div.sk-parallel-item:only-child::after {width: 0;}#sk-container-id-6 div.sk-dashed-wrapped {border: 1px dashed gray;margin: 0 0.4em 0.5em 0.4em;box-sizing: border-box;padding-bottom: 0.4em;background-color: white;}#sk-container-id-6 div.sk-label label {font-family: monospace;font-weight: bold;display: inline-block;line-height: 1.2em;}#sk-container-id-6 div.sk-label-container {text-align: center;}#sk-container-id-6 div.sk-container {/* jupyter's `normalize.less` sets `[hidden] { display: none; }` but bootstrap.min.css set `[hidden] { display: none !important; }` so we also need the `!important` here to be able to override the default hidden behavior on the sphinx rendered scikit-learn.org. See: https://github.com/scikit-learn/scikit-learn/issues/21755 */display: inline-block !important;position: relative;}#sk-container-id-6 div.sk-text-repr-fallback {display: none;}</style><div id=\"sk-container-id-6\" class=\"sk-top-container\"><div class=\"sk-text-repr-fallback\"><pre>GridSearchCV(cv=5,\n",
       "             estimator=Pipeline(steps=[(&#x27;col_tr&#x27;,\n",
       "                                        ColumnTransformer(remainder=&#x27;passthrough&#x27;,\n",
       "                                                          transformers=[(&#x27;text&#x27;,\n",
       "                                                                         Pipeline(steps=[(&#x27;vec&#x27;,\n",
       "                                                                                          TfidfVectorizer())]),\n",
       "                                                                         &#x27;processed_reviews&#x27;),\n",
       "                                                                        (&#x27;cat&#x27;,\n",
       "                                                                         Pipeline(steps=[(&#x27;ohe&#x27;,\n",
       "                                                                                          OneHotEncoder(handle_unknown=&#x27;ignore&#x27;,\n",
       "                                                                                                        sparse_output=False))]),\n",
       "                                                                         [&#x27;neighborhood&#x27;,\n",
       "                                                                          &#x27;property_type&#x27;])])),\n",
       "                                       (&#x27;rf&#x27;,\n",
       "                                        RandomForestClassifier(random_state=42))]),\n",
       "             param_grid={&#x27;col_tr__text__vec__max_df&#x27;: [0.75],\n",
       "                         &#x27;col_tr__text__vec__min_df&#x27;: [0.1],\n",
       "                         &#x27;col_tr__text__vec__ngram_range&#x27;: [(1, 1)],\n",
       "                         &#x27;rf__class_weight&#x27;: [None],\n",
       "                         &#x27;rf__max_depth&#x27;: [2, 5, 10],\n",
       "                         &#x27;rf__min_samples_split&#x27;: [2],\n",
       "                         &#x27;rf__n_estimators&#x27;: [300]},\n",
       "             return_train_score=True, scoring=&#x27;accuracy&#x27;, verbose=3)</pre><b>In a Jupyter environment, please rerun this cell to show the HTML representation or trust the notebook. <br />On GitHub, the HTML representation is unable to render, please try loading this page with nbviewer.org.</b></div><div class=\"sk-container\" hidden><div class=\"sk-item sk-dashed-wrapped\"><div class=\"sk-label-container\"><div class=\"sk-label sk-toggleable\"><input class=\"sk-toggleable__control sk-hidden--visually\" id=\"sk-estimator-id-51\" type=\"checkbox\" ><label for=\"sk-estimator-id-51\" class=\"sk-toggleable__label sk-toggleable__label-arrow\">GridSearchCV</label><div class=\"sk-toggleable__content\"><pre>GridSearchCV(cv=5,\n",
       "             estimator=Pipeline(steps=[(&#x27;col_tr&#x27;,\n",
       "                                        ColumnTransformer(remainder=&#x27;passthrough&#x27;,\n",
       "                                                          transformers=[(&#x27;text&#x27;,\n",
       "                                                                         Pipeline(steps=[(&#x27;vec&#x27;,\n",
       "                                                                                          TfidfVectorizer())]),\n",
       "                                                                         &#x27;processed_reviews&#x27;),\n",
       "                                                                        (&#x27;cat&#x27;,\n",
       "                                                                         Pipeline(steps=[(&#x27;ohe&#x27;,\n",
       "                                                                                          OneHotEncoder(handle_unknown=&#x27;ignore&#x27;,\n",
       "                                                                                                        sparse_output=False))]),\n",
       "                                                                         [&#x27;neighborhood&#x27;,\n",
       "                                                                          &#x27;property_type&#x27;])])),\n",
       "                                       (&#x27;rf&#x27;,\n",
       "                                        RandomForestClassifier(random_state=42))]),\n",
       "             param_grid={&#x27;col_tr__text__vec__max_df&#x27;: [0.75],\n",
       "                         &#x27;col_tr__text__vec__min_df&#x27;: [0.1],\n",
       "                         &#x27;col_tr__text__vec__ngram_range&#x27;: [(1, 1)],\n",
       "                         &#x27;rf__class_weight&#x27;: [None],\n",
       "                         &#x27;rf__max_depth&#x27;: [2, 5, 10],\n",
       "                         &#x27;rf__min_samples_split&#x27;: [2],\n",
       "                         &#x27;rf__n_estimators&#x27;: [300]},\n",
       "             return_train_score=True, scoring=&#x27;accuracy&#x27;, verbose=3)</pre></div></div></div><div class=\"sk-parallel\"><div class=\"sk-parallel-item\"><div class=\"sk-item\"><div class=\"sk-label-container\"><div class=\"sk-label sk-toggleable\"><input class=\"sk-toggleable__control sk-hidden--visually\" id=\"sk-estimator-id-52\" type=\"checkbox\" ><label for=\"sk-estimator-id-52\" class=\"sk-toggleable__label sk-toggleable__label-arrow\">estimator: Pipeline</label><div class=\"sk-toggleable__content\"><pre>Pipeline(steps=[(&#x27;col_tr&#x27;,\n",
       "                 ColumnTransformer(remainder=&#x27;passthrough&#x27;,\n",
       "                                   transformers=[(&#x27;text&#x27;,\n",
       "                                                  Pipeline(steps=[(&#x27;vec&#x27;,\n",
       "                                                                   TfidfVectorizer())]),\n",
       "                                                  &#x27;processed_reviews&#x27;),\n",
       "                                                 (&#x27;cat&#x27;,\n",
       "                                                  Pipeline(steps=[(&#x27;ohe&#x27;,\n",
       "                                                                   OneHotEncoder(handle_unknown=&#x27;ignore&#x27;,\n",
       "                                                                                 sparse_output=False))]),\n",
       "                                                  [&#x27;neighborhood&#x27;,\n",
       "                                                   &#x27;property_type&#x27;])])),\n",
       "                (&#x27;rf&#x27;, RandomForestClassifier(random_state=42))])</pre></div></div></div><div class=\"sk-serial\"><div class=\"sk-item\"><div class=\"sk-serial\"><div class=\"sk-item sk-dashed-wrapped\"><div class=\"sk-label-container\"><div class=\"sk-label sk-toggleable\"><input class=\"sk-toggleable__control sk-hidden--visually\" id=\"sk-estimator-id-53\" type=\"checkbox\" ><label for=\"sk-estimator-id-53\" class=\"sk-toggleable__label sk-toggleable__label-arrow\">col_tr: ColumnTransformer</label><div class=\"sk-toggleable__content\"><pre>ColumnTransformer(remainder=&#x27;passthrough&#x27;,\n",
       "                  transformers=[(&#x27;text&#x27;,\n",
       "                                 Pipeline(steps=[(&#x27;vec&#x27;, TfidfVectorizer())]),\n",
       "                                 &#x27;processed_reviews&#x27;),\n",
       "                                (&#x27;cat&#x27;,\n",
       "                                 Pipeline(steps=[(&#x27;ohe&#x27;,\n",
       "                                                  OneHotEncoder(handle_unknown=&#x27;ignore&#x27;,\n",
       "                                                                sparse_output=False))]),\n",
       "                                 [&#x27;neighborhood&#x27;, &#x27;property_type&#x27;])])</pre></div></div></div><div class=\"sk-parallel\"><div class=\"sk-parallel-item\"><div class=\"sk-item\"><div class=\"sk-label-container\"><div class=\"sk-label sk-toggleable\"><input class=\"sk-toggleable__control sk-hidden--visually\" id=\"sk-estimator-id-54\" type=\"checkbox\" ><label for=\"sk-estimator-id-54\" class=\"sk-toggleable__label sk-toggleable__label-arrow\">text</label><div class=\"sk-toggleable__content\"><pre>processed_reviews</pre></div></div></div><div class=\"sk-serial\"><div class=\"sk-item\"><div class=\"sk-serial\"><div class=\"sk-item\"><div class=\"sk-estimator sk-toggleable\"><input class=\"sk-toggleable__control sk-hidden--visually\" id=\"sk-estimator-id-55\" type=\"checkbox\" ><label for=\"sk-estimator-id-55\" class=\"sk-toggleable__label sk-toggleable__label-arrow\">TfidfVectorizer</label><div class=\"sk-toggleable__content\"><pre>TfidfVectorizer()</pre></div></div></div></div></div></div></div></div><div class=\"sk-parallel-item\"><div class=\"sk-item\"><div class=\"sk-label-container\"><div class=\"sk-label sk-toggleable\"><input class=\"sk-toggleable__control sk-hidden--visually\" id=\"sk-estimator-id-56\" type=\"checkbox\" ><label for=\"sk-estimator-id-56\" class=\"sk-toggleable__label sk-toggleable__label-arrow\">cat</label><div class=\"sk-toggleable__content\"><pre>[&#x27;neighborhood&#x27;, &#x27;property_type&#x27;]</pre></div></div></div><div class=\"sk-serial\"><div class=\"sk-item\"><div class=\"sk-serial\"><div class=\"sk-item\"><div class=\"sk-estimator sk-toggleable\"><input class=\"sk-toggleable__control sk-hidden--visually\" id=\"sk-estimator-id-57\" type=\"checkbox\" ><label for=\"sk-estimator-id-57\" class=\"sk-toggleable__label sk-toggleable__label-arrow\">OneHotEncoder</label><div class=\"sk-toggleable__content\"><pre>OneHotEncoder(handle_unknown=&#x27;ignore&#x27;, sparse_output=False)</pre></div></div></div></div></div></div></div></div><div class=\"sk-parallel-item\"><div class=\"sk-item\"><div class=\"sk-label-container\"><div class=\"sk-label sk-toggleable\"><input class=\"sk-toggleable__control sk-hidden--visually\" id=\"sk-estimator-id-58\" type=\"checkbox\" ><label for=\"sk-estimator-id-58\" class=\"sk-toggleable__label sk-toggleable__label-arrow\">remainder</label><div class=\"sk-toggleable__content\"><pre></pre></div></div></div><div class=\"sk-serial\"><div class=\"sk-item\"><div class=\"sk-estimator sk-toggleable\"><input class=\"sk-toggleable__control sk-hidden--visually\" id=\"sk-estimator-id-59\" type=\"checkbox\" ><label for=\"sk-estimator-id-59\" class=\"sk-toggleable__label sk-toggleable__label-arrow\">passthrough</label><div class=\"sk-toggleable__content\"><pre>passthrough</pre></div></div></div></div></div></div></div></div><div class=\"sk-item\"><div class=\"sk-estimator sk-toggleable\"><input class=\"sk-toggleable__control sk-hidden--visually\" id=\"sk-estimator-id-60\" type=\"checkbox\" ><label for=\"sk-estimator-id-60\" class=\"sk-toggleable__label sk-toggleable__label-arrow\">RandomForestClassifier</label><div class=\"sk-toggleable__content\"><pre>RandomForestClassifier(random_state=42)</pre></div></div></div></div></div></div></div></div></div></div></div></div>"
      ],
      "text/plain": [
       "GridSearchCV(cv=5,\n",
       "             estimator=Pipeline(steps=[('col_tr',\n",
       "                                        ColumnTransformer(remainder='passthrough',\n",
       "                                                          transformers=[('text',\n",
       "                                                                         Pipeline(steps=[('vec',\n",
       "                                                                                          TfidfVectorizer())]),\n",
       "                                                                         'processed_reviews'),\n",
       "                                                                        ('cat',\n",
       "                                                                         Pipeline(steps=[('ohe',\n",
       "                                                                                          OneHotEncoder(handle_unknown='ignore',\n",
       "                                                                                                        sparse_output=False))]),\n",
       "                                                                         ['neighborhood',\n",
       "                                                                          'property_type'])])),\n",
       "                                       ('rf',\n",
       "                                        RandomForestClassifier(random_state=42))]),\n",
       "             param_grid={'col_tr__text__vec__max_df': [0.75],\n",
       "                         'col_tr__text__vec__min_df': [0.1],\n",
       "                         'col_tr__text__vec__ngram_range': [(1, 1)],\n",
       "                         'rf__class_weight': [None],\n",
       "                         'rf__max_depth': [2, 5, 10],\n",
       "                         'rf__min_samples_split': [2],\n",
       "                         'rf__n_estimators': [300]},\n",
       "             return_train_score=True, scoring='accuracy', verbose=3)"
      ]
     },
     "execution_count": 22,
     "metadata": {},
     "output_type": "execute_result"
    }
   ],
   "source": [
    "# Improve on the first GridSearch above. #BEFORE CHANGES\n",
    "# Define parameter grid for the Random Forest Model\n",
    "rf_param_grid3 = {\n",
    "    'rf__n_estimators': [300], \n",
    "    'rf__min_samples_split': [2], \n",
    "    'rf__max_depth': [5, 7, 10], \n",
    "    'rf__class_weight': [None], \n",
    "    'col_tr__text__vec__ngram_range': [(1, 1)], \n",
    "    'col_tr__text__vec__min_df': [0.1], \n",
    "    'col_tr__text__vec__max_df': [.75] \n",
    "}\n",
    "\n",
    "# Instantiate GridSearch and fit it to training data\n",
    "forest_grid3 = GridSearchCV(pipe_rf3, rf_param_grid3, cv=5, verbose=3, \n",
    "                            return_train_score=True,\n",
    "                            scoring='accuracy')\n",
    "forest_grid3.fit(X_train3, y_train3)"
   ]
  },
  {
   "cell_type": "code",
   "execution_count": 25,
   "metadata": {},
   "outputs": [
    {
     "data": {
      "text/plain": [
       "0.5146672299493045"
      ]
     },
     "execution_count": 25,
     "metadata": {},
     "output_type": "execute_result"
    }
   ],
   "source": [
    "forest_grid3.best_score_"
   ]
  },
  {
   "cell_type": "code",
   "execution_count": 26,
   "metadata": {},
   "outputs": [
    {
     "data": {
      "text/plain": [
       "{'col_tr__text__vec__max_df': 0.75,\n",
       " 'col_tr__text__vec__min_df': 0.1,\n",
       " 'col_tr__text__vec__ngram_range': (1, 1),\n",
       " 'rf__class_weight': None,\n",
       " 'rf__max_depth': 10,\n",
       " 'rf__min_samples_split': 2,\n",
       " 'rf__n_estimators': 300}"
      ]
     },
     "execution_count": 26,
     "metadata": {},
     "output_type": "execute_result"
    }
   ],
   "source": [
    "forest_grid3.best_params_"
   ]
  },
  {
   "cell_type": "code",
   "execution_count": 27,
   "metadata": {},
   "outputs": [
    {
     "name": "stdout",
     "output_type": "stream",
     "text": [
      "Fitting 5 folds for each of 6 candidates, totalling 30 fits\n",
      "[CV 1/5] END col_tr__text__vec__max_df=0.75, col_tr__text__vec__min_df=0.1, col_tr__text__vec__ngram_range=(1, 1), rf__class_weight=None, rf__max_depth=5, rf__min_samples_split=2, rf__n_estimators=100;, score=(train=0.698, test=0.471) total time=   5.4s\n",
      "[CV 2/5] END col_tr__text__vec__max_df=0.75, col_tr__text__vec__min_df=0.1, col_tr__text__vec__ngram_range=(1, 1), rf__class_weight=None, rf__max_depth=5, rf__min_samples_split=2, rf__n_estimators=100;, score=(train=0.707, test=0.531) total time=   5.3s\n",
      "[CV 3/5] END col_tr__text__vec__max_df=0.75, col_tr__text__vec__min_df=0.1, col_tr__text__vec__ngram_range=(1, 1), rf__class_weight=None, rf__max_depth=5, rf__min_samples_split=2, rf__n_estimators=100;, score=(train=0.692, test=0.480) total time=   5.2s\n",
      "[CV 4/5] END col_tr__text__vec__max_df=0.75, col_tr__text__vec__min_df=0.1, col_tr__text__vec__ngram_range=(1, 1), rf__class_weight=None, rf__max_depth=5, rf__min_samples_split=2, rf__n_estimators=100;, score=(train=0.696, test=0.496) total time=   5.2s\n",
      "[CV 5/5] END col_tr__text__vec__max_df=0.75, col_tr__text__vec__min_df=0.1, col_tr__text__vec__ngram_range=(1, 1), rf__class_weight=None, rf__max_depth=5, rf__min_samples_split=2, rf__n_estimators=100;, score=(train=0.695, test=0.496) total time=   5.1s\n",
      "[CV 1/5] END col_tr__text__vec__max_df=0.75, col_tr__text__vec__min_df=0.1, col_tr__text__vec__ngram_range=(1, 1), rf__class_weight=None, rf__max_depth=5, rf__min_samples_split=2, rf__n_estimators=300;, score=(train=0.707, test=0.494) total time=   7.8s\n",
      "[CV 2/5] END col_tr__text__vec__max_df=0.75, col_tr__text__vec__min_df=0.1, col_tr__text__vec__ngram_range=(1, 1), rf__class_weight=None, rf__max_depth=5, rf__min_samples_split=2, rf__n_estimators=300;, score=(train=0.721, test=0.546) total time=   7.8s\n",
      "[CV 3/5] END col_tr__text__vec__max_df=0.75, col_tr__text__vec__min_df=0.1, col_tr__text__vec__ngram_range=(1, 1), rf__class_weight=None, rf__max_depth=5, rf__min_samples_split=2, rf__n_estimators=300;, score=(train=0.705, test=0.495) total time=   7.9s\n",
      "[CV 4/5] END col_tr__text__vec__max_df=0.75, col_tr__text__vec__min_df=0.1, col_tr__text__vec__ngram_range=(1, 1), rf__class_weight=None, rf__max_depth=5, rf__min_samples_split=2, rf__n_estimators=300;, score=(train=0.712, test=0.482) total time=   8.1s\n",
      "[CV 5/5] END col_tr__text__vec__max_df=0.75, col_tr__text__vec__min_df=0.1, col_tr__text__vec__ngram_range=(1, 1), rf__class_weight=None, rf__max_depth=5, rf__min_samples_split=2, rf__n_estimators=300;, score=(train=0.717, test=0.504) total time=   7.9s\n",
      "[CV 1/5] END col_tr__text__vec__max_df=0.75, col_tr__text__vec__min_df=0.1, col_tr__text__vec__ngram_range=(1, 1), rf__class_weight=None, rf__max_depth=7, rf__min_samples_split=2, rf__n_estimators=100;, score=(train=0.843, test=0.489) total time=   5.6s\n",
      "[CV 2/5] END col_tr__text__vec__max_df=0.75, col_tr__text__vec__min_df=0.1, col_tr__text__vec__ngram_range=(1, 1), rf__class_weight=None, rf__max_depth=7, rf__min_samples_split=2, rf__n_estimators=100;, score=(train=0.834, test=0.559) total time=   5.7s\n",
      "[CV 3/5] END col_tr__text__vec__max_df=0.75, col_tr__text__vec__min_df=0.1, col_tr__text__vec__ngram_range=(1, 1), rf__class_weight=None, rf__max_depth=7, rf__min_samples_split=2, rf__n_estimators=100;, score=(train=0.832, test=0.504) total time=   5.7s\n",
      "[CV 4/5] END col_tr__text__vec__max_df=0.75, col_tr__text__vec__min_df=0.1, col_tr__text__vec__ngram_range=(1, 1), rf__class_weight=None, rf__max_depth=7, rf__min_samples_split=2, rf__n_estimators=100;, score=(train=0.829, test=0.490) total time=   5.7s\n",
      "[CV 5/5] END col_tr__text__vec__max_df=0.75, col_tr__text__vec__min_df=0.1, col_tr__text__vec__ngram_range=(1, 1), rf__class_weight=None, rf__max_depth=7, rf__min_samples_split=2, rf__n_estimators=100;, score=(train=0.832, test=0.497) total time=   5.6s\n",
      "[CV 1/5] END col_tr__text__vec__max_df=0.75, col_tr__text__vec__min_df=0.1, col_tr__text__vec__ngram_range=(1, 1), rf__class_weight=None, rf__max_depth=7, rf__min_samples_split=2, rf__n_estimators=300;, score=(train=0.854, test=0.503) total time=   9.2s\n",
      "[CV 2/5] END col_tr__text__vec__max_df=0.75, col_tr__text__vec__min_df=0.1, col_tr__text__vec__ngram_range=(1, 1), rf__class_weight=None, rf__max_depth=7, rf__min_samples_split=2, rf__n_estimators=300;, score=(train=0.850, test=0.577) total time=   9.2s\n",
      "[CV 3/5] END col_tr__text__vec__max_df=0.75, col_tr__text__vec__min_df=0.1, col_tr__text__vec__ngram_range=(1, 1), rf__class_weight=None, rf__max_depth=7, rf__min_samples_split=2, rf__n_estimators=300;, score=(train=0.845, test=0.526) total time=   9.2s\n",
      "[CV 4/5] END col_tr__text__vec__max_df=0.75, col_tr__text__vec__min_df=0.1, col_tr__text__vec__ngram_range=(1, 1), rf__class_weight=None, rf__max_depth=7, rf__min_samples_split=2, rf__n_estimators=300;, score=(train=0.843, test=0.499) total time=   9.3s\n",
      "[CV 5/5] END col_tr__text__vec__max_df=0.75, col_tr__text__vec__min_df=0.1, col_tr__text__vec__ngram_range=(1, 1), rf__class_weight=None, rf__max_depth=7, rf__min_samples_split=2, rf__n_estimators=300;, score=(train=0.850, test=0.506) total time=   9.1s\n",
      "[CV 1/5] END col_tr__text__vec__max_df=0.75, col_tr__text__vec__min_df=0.1, col_tr__text__vec__ngram_range=(1, 1), rf__class_weight=None, rf__max_depth=10, rf__min_samples_split=2, rf__n_estimators=100;, score=(train=0.930, test=0.476) total time=   6.2s\n",
      "[CV 2/5] END col_tr__text__vec__max_df=0.75, col_tr__text__vec__min_df=0.1, col_tr__text__vec__ngram_range=(1, 1), rf__class_weight=None, rf__max_depth=10, rf__min_samples_split=2, rf__n_estimators=100;, score=(train=0.923, test=0.543) total time=   6.2s\n",
      "[CV 3/5] END col_tr__text__vec__max_df=0.75, col_tr__text__vec__min_df=0.1, col_tr__text__vec__ngram_range=(1, 1), rf__class_weight=None, rf__max_depth=10, rf__min_samples_split=2, rf__n_estimators=100;, score=(train=0.924, test=0.500) total time=   6.2s\n",
      "[CV 4/5] END col_tr__text__vec__max_df=0.75, col_tr__text__vec__min_df=0.1, col_tr__text__vec__ngram_range=(1, 1), rf__class_weight=None, rf__max_depth=10, rf__min_samples_split=2, rf__n_estimators=100;, score=(train=0.917, test=0.500) total time=   6.2s\n",
      "[CV 5/5] END col_tr__text__vec__max_df=0.75, col_tr__text__vec__min_df=0.1, col_tr__text__vec__ngram_range=(1, 1), rf__class_weight=None, rf__max_depth=10, rf__min_samples_split=2, rf__n_estimators=100;, score=(train=0.931, test=0.486) total time=   6.2s\n",
      "[CV 1/5] END col_tr__text__vec__max_df=0.75, col_tr__text__vec__min_df=0.1, col_tr__text__vec__ngram_range=(1, 1), rf__class_weight=None, rf__max_depth=10, rf__min_samples_split=2, rf__n_estimators=300;, score=(train=0.935, test=0.504) total time=  11.0s\n",
      "[CV 2/5] END col_tr__text__vec__max_df=0.75, col_tr__text__vec__min_df=0.1, col_tr__text__vec__ngram_range=(1, 1), rf__class_weight=None, rf__max_depth=10, rf__min_samples_split=2, rf__n_estimators=300;, score=(train=0.931, test=0.552) total time=  11.5s\n",
      "[CV 3/5] END col_tr__text__vec__max_df=0.75, col_tr__text__vec__min_df=0.1, col_tr__text__vec__ngram_range=(1, 1), rf__class_weight=None, rf__max_depth=10, rf__min_samples_split=2, rf__n_estimators=300;, score=(train=0.929, test=0.506) total time=  10.9s\n",
      "[CV 4/5] END col_tr__text__vec__max_df=0.75, col_tr__text__vec__min_df=0.1, col_tr__text__vec__ngram_range=(1, 1), rf__class_weight=None, rf__max_depth=10, rf__min_samples_split=2, rf__n_estimators=300;, score=(train=0.926, test=0.503) total time=  11.1s\n",
      "[CV 5/5] END col_tr__text__vec__max_df=0.75, col_tr__text__vec__min_df=0.1, col_tr__text__vec__ngram_range=(1, 1), rf__class_weight=None, rf__max_depth=10, rf__min_samples_split=2, rf__n_estimators=300;, score=(train=0.935, test=0.508) total time=  10.9s\n"
     ]
    },
    {
     "data": {
      "text/html": [
       "<style>#sk-container-id-7 {color: black;}#sk-container-id-7 pre{padding: 0;}#sk-container-id-7 div.sk-toggleable {background-color: white;}#sk-container-id-7 label.sk-toggleable__label {cursor: pointer;display: block;width: 100%;margin-bottom: 0;padding: 0.3em;box-sizing: border-box;text-align: center;}#sk-container-id-7 label.sk-toggleable__label-arrow:before {content: \"▸\";float: left;margin-right: 0.25em;color: #696969;}#sk-container-id-7 label.sk-toggleable__label-arrow:hover:before {color: black;}#sk-container-id-7 div.sk-estimator:hover label.sk-toggleable__label-arrow:before {color: black;}#sk-container-id-7 div.sk-toggleable__content {max-height: 0;max-width: 0;overflow: hidden;text-align: left;background-color: #f0f8ff;}#sk-container-id-7 div.sk-toggleable__content pre {margin: 0.2em;color: black;border-radius: 0.25em;background-color: #f0f8ff;}#sk-container-id-7 input.sk-toggleable__control:checked~div.sk-toggleable__content {max-height: 200px;max-width: 100%;overflow: auto;}#sk-container-id-7 input.sk-toggleable__control:checked~label.sk-toggleable__label-arrow:before {content: \"▾\";}#sk-container-id-7 div.sk-estimator input.sk-toggleable__control:checked~label.sk-toggleable__label {background-color: #d4ebff;}#sk-container-id-7 div.sk-label input.sk-toggleable__control:checked~label.sk-toggleable__label {background-color: #d4ebff;}#sk-container-id-7 input.sk-hidden--visually {border: 0;clip: rect(1px 1px 1px 1px);clip: rect(1px, 1px, 1px, 1px);height: 1px;margin: -1px;overflow: hidden;padding: 0;position: absolute;width: 1px;}#sk-container-id-7 div.sk-estimator {font-family: monospace;background-color: #f0f8ff;border: 1px dotted black;border-radius: 0.25em;box-sizing: border-box;margin-bottom: 0.5em;}#sk-container-id-7 div.sk-estimator:hover {background-color: #d4ebff;}#sk-container-id-7 div.sk-parallel-item::after {content: \"\";width: 100%;border-bottom: 1px solid gray;flex-grow: 1;}#sk-container-id-7 div.sk-label:hover label.sk-toggleable__label {background-color: #d4ebff;}#sk-container-id-7 div.sk-serial::before {content: \"\";position: absolute;border-left: 1px solid gray;box-sizing: border-box;top: 0;bottom: 0;left: 50%;z-index: 0;}#sk-container-id-7 div.sk-serial {display: flex;flex-direction: column;align-items: center;background-color: white;padding-right: 0.2em;padding-left: 0.2em;position: relative;}#sk-container-id-7 div.sk-item {position: relative;z-index: 1;}#sk-container-id-7 div.sk-parallel {display: flex;align-items: stretch;justify-content: center;background-color: white;position: relative;}#sk-container-id-7 div.sk-item::before, #sk-container-id-7 div.sk-parallel-item::before {content: \"\";position: absolute;border-left: 1px solid gray;box-sizing: border-box;top: 0;bottom: 0;left: 50%;z-index: -1;}#sk-container-id-7 div.sk-parallel-item {display: flex;flex-direction: column;z-index: 1;position: relative;background-color: white;}#sk-container-id-7 div.sk-parallel-item:first-child::after {align-self: flex-end;width: 50%;}#sk-container-id-7 div.sk-parallel-item:last-child::after {align-self: flex-start;width: 50%;}#sk-container-id-7 div.sk-parallel-item:only-child::after {width: 0;}#sk-container-id-7 div.sk-dashed-wrapped {border: 1px dashed gray;margin: 0 0.4em 0.5em 0.4em;box-sizing: border-box;padding-bottom: 0.4em;background-color: white;}#sk-container-id-7 div.sk-label label {font-family: monospace;font-weight: bold;display: inline-block;line-height: 1.2em;}#sk-container-id-7 div.sk-label-container {text-align: center;}#sk-container-id-7 div.sk-container {/* jupyter's `normalize.less` sets `[hidden] { display: none; }` but bootstrap.min.css set `[hidden] { display: none !important; }` so we also need the `!important` here to be able to override the default hidden behavior on the sphinx rendered scikit-learn.org. See: https://github.com/scikit-learn/scikit-learn/issues/21755 */display: inline-block !important;position: relative;}#sk-container-id-7 div.sk-text-repr-fallback {display: none;}</style><div id=\"sk-container-id-7\" class=\"sk-top-container\"><div class=\"sk-text-repr-fallback\"><pre>GridSearchCV(cv=5,\n",
       "             estimator=Pipeline(steps=[(&#x27;col_tr&#x27;,\n",
       "                                        ColumnTransformer(remainder=&#x27;passthrough&#x27;,\n",
       "                                                          transformers=[(&#x27;text&#x27;,\n",
       "                                                                         Pipeline(steps=[(&#x27;vec&#x27;,\n",
       "                                                                                          TfidfVectorizer())]),\n",
       "                                                                         &#x27;processed_reviews&#x27;),\n",
       "                                                                        (&#x27;cat&#x27;,\n",
       "                                                                         Pipeline(steps=[(&#x27;ohe&#x27;,\n",
       "                                                                                          OneHotEncoder(handle_unknown=&#x27;ignore&#x27;,\n",
       "                                                                                                        sparse_output=False))]),\n",
       "                                                                         [&#x27;neighborhood&#x27;,\n",
       "                                                                          &#x27;property_type&#x27;])])),\n",
       "                                       (&#x27;rf&#x27;,\n",
       "                                        RandomForestClassifier(random_state=42))]),\n",
       "             param_grid={&#x27;col_tr__text__vec__max_df&#x27;: [0.75],\n",
       "                         &#x27;col_tr__text__vec__min_df&#x27;: [0.1],\n",
       "                         &#x27;col_tr__text__vec__ngram_range&#x27;: [(1, 1)],\n",
       "                         &#x27;rf__class_weight&#x27;: [None],\n",
       "                         &#x27;rf__max_depth&#x27;: [5, 7, 10],\n",
       "                         &#x27;rf__min_samples_split&#x27;: [2],\n",
       "                         &#x27;rf__n_estimators&#x27;: [100, 300]},\n",
       "             return_train_score=True, scoring=&#x27;accuracy&#x27;, verbose=3)</pre><b>In a Jupyter environment, please rerun this cell to show the HTML representation or trust the notebook. <br />On GitHub, the HTML representation is unable to render, please try loading this page with nbviewer.org.</b></div><div class=\"sk-container\" hidden><div class=\"sk-item sk-dashed-wrapped\"><div class=\"sk-label-container\"><div class=\"sk-label sk-toggleable\"><input class=\"sk-toggleable__control sk-hidden--visually\" id=\"sk-estimator-id-61\" type=\"checkbox\" ><label for=\"sk-estimator-id-61\" class=\"sk-toggleable__label sk-toggleable__label-arrow\">GridSearchCV</label><div class=\"sk-toggleable__content\"><pre>GridSearchCV(cv=5,\n",
       "             estimator=Pipeline(steps=[(&#x27;col_tr&#x27;,\n",
       "                                        ColumnTransformer(remainder=&#x27;passthrough&#x27;,\n",
       "                                                          transformers=[(&#x27;text&#x27;,\n",
       "                                                                         Pipeline(steps=[(&#x27;vec&#x27;,\n",
       "                                                                                          TfidfVectorizer())]),\n",
       "                                                                         &#x27;processed_reviews&#x27;),\n",
       "                                                                        (&#x27;cat&#x27;,\n",
       "                                                                         Pipeline(steps=[(&#x27;ohe&#x27;,\n",
       "                                                                                          OneHotEncoder(handle_unknown=&#x27;ignore&#x27;,\n",
       "                                                                                                        sparse_output=False))]),\n",
       "                                                                         [&#x27;neighborhood&#x27;,\n",
       "                                                                          &#x27;property_type&#x27;])])),\n",
       "                                       (&#x27;rf&#x27;,\n",
       "                                        RandomForestClassifier(random_state=42))]),\n",
       "             param_grid={&#x27;col_tr__text__vec__max_df&#x27;: [0.75],\n",
       "                         &#x27;col_tr__text__vec__min_df&#x27;: [0.1],\n",
       "                         &#x27;col_tr__text__vec__ngram_range&#x27;: [(1, 1)],\n",
       "                         &#x27;rf__class_weight&#x27;: [None],\n",
       "                         &#x27;rf__max_depth&#x27;: [5, 7, 10],\n",
       "                         &#x27;rf__min_samples_split&#x27;: [2],\n",
       "                         &#x27;rf__n_estimators&#x27;: [100, 300]},\n",
       "             return_train_score=True, scoring=&#x27;accuracy&#x27;, verbose=3)</pre></div></div></div><div class=\"sk-parallel\"><div class=\"sk-parallel-item\"><div class=\"sk-item\"><div class=\"sk-label-container\"><div class=\"sk-label sk-toggleable\"><input class=\"sk-toggleable__control sk-hidden--visually\" id=\"sk-estimator-id-62\" type=\"checkbox\" ><label for=\"sk-estimator-id-62\" class=\"sk-toggleable__label sk-toggleable__label-arrow\">estimator: Pipeline</label><div class=\"sk-toggleable__content\"><pre>Pipeline(steps=[(&#x27;col_tr&#x27;,\n",
       "                 ColumnTransformer(remainder=&#x27;passthrough&#x27;,\n",
       "                                   transformers=[(&#x27;text&#x27;,\n",
       "                                                  Pipeline(steps=[(&#x27;vec&#x27;,\n",
       "                                                                   TfidfVectorizer())]),\n",
       "                                                  &#x27;processed_reviews&#x27;),\n",
       "                                                 (&#x27;cat&#x27;,\n",
       "                                                  Pipeline(steps=[(&#x27;ohe&#x27;,\n",
       "                                                                   OneHotEncoder(handle_unknown=&#x27;ignore&#x27;,\n",
       "                                                                                 sparse_output=False))]),\n",
       "                                                  [&#x27;neighborhood&#x27;,\n",
       "                                                   &#x27;property_type&#x27;])])),\n",
       "                (&#x27;rf&#x27;, RandomForestClassifier(random_state=42))])</pre></div></div></div><div class=\"sk-serial\"><div class=\"sk-item\"><div class=\"sk-serial\"><div class=\"sk-item sk-dashed-wrapped\"><div class=\"sk-label-container\"><div class=\"sk-label sk-toggleable\"><input class=\"sk-toggleable__control sk-hidden--visually\" id=\"sk-estimator-id-63\" type=\"checkbox\" ><label for=\"sk-estimator-id-63\" class=\"sk-toggleable__label sk-toggleable__label-arrow\">col_tr: ColumnTransformer</label><div class=\"sk-toggleable__content\"><pre>ColumnTransformer(remainder=&#x27;passthrough&#x27;,\n",
       "                  transformers=[(&#x27;text&#x27;,\n",
       "                                 Pipeline(steps=[(&#x27;vec&#x27;, TfidfVectorizer())]),\n",
       "                                 &#x27;processed_reviews&#x27;),\n",
       "                                (&#x27;cat&#x27;,\n",
       "                                 Pipeline(steps=[(&#x27;ohe&#x27;,\n",
       "                                                  OneHotEncoder(handle_unknown=&#x27;ignore&#x27;,\n",
       "                                                                sparse_output=False))]),\n",
       "                                 [&#x27;neighborhood&#x27;, &#x27;property_type&#x27;])])</pre></div></div></div><div class=\"sk-parallel\"><div class=\"sk-parallel-item\"><div class=\"sk-item\"><div class=\"sk-label-container\"><div class=\"sk-label sk-toggleable\"><input class=\"sk-toggleable__control sk-hidden--visually\" id=\"sk-estimator-id-64\" type=\"checkbox\" ><label for=\"sk-estimator-id-64\" class=\"sk-toggleable__label sk-toggleable__label-arrow\">text</label><div class=\"sk-toggleable__content\"><pre>processed_reviews</pre></div></div></div><div class=\"sk-serial\"><div class=\"sk-item\"><div class=\"sk-serial\"><div class=\"sk-item\"><div class=\"sk-estimator sk-toggleable\"><input class=\"sk-toggleable__control sk-hidden--visually\" id=\"sk-estimator-id-65\" type=\"checkbox\" ><label for=\"sk-estimator-id-65\" class=\"sk-toggleable__label sk-toggleable__label-arrow\">TfidfVectorizer</label><div class=\"sk-toggleable__content\"><pre>TfidfVectorizer()</pre></div></div></div></div></div></div></div></div><div class=\"sk-parallel-item\"><div class=\"sk-item\"><div class=\"sk-label-container\"><div class=\"sk-label sk-toggleable\"><input class=\"sk-toggleable__control sk-hidden--visually\" id=\"sk-estimator-id-66\" type=\"checkbox\" ><label for=\"sk-estimator-id-66\" class=\"sk-toggleable__label sk-toggleable__label-arrow\">cat</label><div class=\"sk-toggleable__content\"><pre>[&#x27;neighborhood&#x27;, &#x27;property_type&#x27;]</pre></div></div></div><div class=\"sk-serial\"><div class=\"sk-item\"><div class=\"sk-serial\"><div class=\"sk-item\"><div class=\"sk-estimator sk-toggleable\"><input class=\"sk-toggleable__control sk-hidden--visually\" id=\"sk-estimator-id-67\" type=\"checkbox\" ><label for=\"sk-estimator-id-67\" class=\"sk-toggleable__label sk-toggleable__label-arrow\">OneHotEncoder</label><div class=\"sk-toggleable__content\"><pre>OneHotEncoder(handle_unknown=&#x27;ignore&#x27;, sparse_output=False)</pre></div></div></div></div></div></div></div></div><div class=\"sk-parallel-item\"><div class=\"sk-item\"><div class=\"sk-label-container\"><div class=\"sk-label sk-toggleable\"><input class=\"sk-toggleable__control sk-hidden--visually\" id=\"sk-estimator-id-68\" type=\"checkbox\" ><label for=\"sk-estimator-id-68\" class=\"sk-toggleable__label sk-toggleable__label-arrow\">remainder</label><div class=\"sk-toggleable__content\"><pre></pre></div></div></div><div class=\"sk-serial\"><div class=\"sk-item\"><div class=\"sk-estimator sk-toggleable\"><input class=\"sk-toggleable__control sk-hidden--visually\" id=\"sk-estimator-id-69\" type=\"checkbox\" ><label for=\"sk-estimator-id-69\" class=\"sk-toggleable__label sk-toggleable__label-arrow\">passthrough</label><div class=\"sk-toggleable__content\"><pre>passthrough</pre></div></div></div></div></div></div></div></div><div class=\"sk-item\"><div class=\"sk-estimator sk-toggleable\"><input class=\"sk-toggleable__control sk-hidden--visually\" id=\"sk-estimator-id-70\" type=\"checkbox\" ><label for=\"sk-estimator-id-70\" class=\"sk-toggleable__label sk-toggleable__label-arrow\">RandomForestClassifier</label><div class=\"sk-toggleable__content\"><pre>RandomForestClassifier(random_state=42)</pre></div></div></div></div></div></div></div></div></div></div></div></div>"
      ],
      "text/plain": [
       "GridSearchCV(cv=5,\n",
       "             estimator=Pipeline(steps=[('col_tr',\n",
       "                                        ColumnTransformer(remainder='passthrough',\n",
       "                                                          transformers=[('text',\n",
       "                                                                         Pipeline(steps=[('vec',\n",
       "                                                                                          TfidfVectorizer())]),\n",
       "                                                                         'processed_reviews'),\n",
       "                                                                        ('cat',\n",
       "                                                                         Pipeline(steps=[('ohe',\n",
       "                                                                                          OneHotEncoder(handle_unknown='ignore',\n",
       "                                                                                                        sparse_output=False))]),\n",
       "                                                                         ['neighborhood',\n",
       "                                                                          'property_type'])])),\n",
       "                                       ('rf',\n",
       "                                        RandomForestClassifier(random_state=42))]),\n",
       "             param_grid={'col_tr__text__vec__max_df': [0.75],\n",
       "                         'col_tr__text__vec__min_df': [0.1],\n",
       "                         'col_tr__text__vec__ngram_range': [(1, 1)],\n",
       "                         'rf__class_weight': [None],\n",
       "                         'rf__max_depth': [5, 7, 10],\n",
       "                         'rf__min_samples_split': [2],\n",
       "                         'rf__n_estimators': [100, 300]},\n",
       "             return_train_score=True, scoring='accuracy', verbose=3)"
      ]
     },
     "execution_count": 27,
     "metadata": {},
     "output_type": "execute_result"
    }
   ],
   "source": [
    "# Improve on the first GridSearch above. #BEFORE CHANGES\n",
    "# Define parameter grid for the Random Forest Model\n",
    "rf_param_grid3 = {\n",
    "    'rf__n_estimators': [100, 300], \n",
    "    'rf__min_samples_split': [2], \n",
    "    'rf__max_depth': [5, 7, 10], \n",
    "    'rf__class_weight': [None], \n",
    "    'col_tr__text__vec__ngram_range': [(1, 1)], \n",
    "    'col_tr__text__vec__min_df': [0.1], \n",
    "    'col_tr__text__vec__max_df': [.75] \n",
    "}\n",
    "\n",
    "# Instantiate GridSearch and fit it to training data\n",
    "forest_grid3 = GridSearchCV(pipe_rf3, rf_param_grid3, cv=5, verbose=3, \n",
    "                            return_train_score=True,\n",
    "                            scoring='accuracy')\n",
    "forest_grid3.fit(X_train3, y_train3)"
   ]
  },
  {
   "cell_type": "code",
   "execution_count": 28,
   "metadata": {},
   "outputs": [
    {
     "data": {
      "text/plain": [
       "0.5220655141037306"
      ]
     },
     "execution_count": 28,
     "metadata": {},
     "output_type": "execute_result"
    }
   ],
   "source": [
    "forest_grid3.best_score_"
   ]
  },
  {
   "cell_type": "code",
   "execution_count": 29,
   "metadata": {},
   "outputs": [
    {
     "data": {
      "text/plain": [
       "{'col_tr__text__vec__max_df': 0.75,\n",
       " 'col_tr__text__vec__min_df': 0.1,\n",
       " 'col_tr__text__vec__ngram_range': (1, 1),\n",
       " 'rf__class_weight': None,\n",
       " 'rf__max_depth': 7,\n",
       " 'rf__min_samples_split': 2,\n",
       " 'rf__n_estimators': 300}"
      ]
     },
     "execution_count": 29,
     "metadata": {},
     "output_type": "execute_result"
    }
   ],
   "source": [
    "forest_grid3.best_params_"
   ]
  },
  {
   "cell_type": "code",
   "execution_count": 12,
   "metadata": {},
   "outputs": [
    {
     "name": "stdout",
     "output_type": "stream",
     "text": [
      "Fitting 5 folds for each of 2 candidates, totalling 10 fits\n",
      "[CV 1/5] END col_tr__text__vec__max_df=0.75, col_tr__text__vec__min_df=0.1, col_tr__text__vec__ngram_range=(1, 1), rf__class_weight=None, rf__max_depth=7, rf__min_samples_split=2, rf__n_estimators=300;, score=(train=0.854, test=0.503) total time=   9.6s\n",
      "[CV 2/5] END col_tr__text__vec__max_df=0.75, col_tr__text__vec__min_df=0.1, col_tr__text__vec__ngram_range=(1, 1), rf__class_weight=None, rf__max_depth=7, rf__min_samples_split=2, rf__n_estimators=300;, score=(train=0.850, test=0.577) total time=  10.1s\n",
      "[CV 3/5] END col_tr__text__vec__max_df=0.75, col_tr__text__vec__min_df=0.1, col_tr__text__vec__ngram_range=(1, 1), rf__class_weight=None, rf__max_depth=7, rf__min_samples_split=2, rf__n_estimators=300;, score=(train=0.845, test=0.526) total time=   9.6s\n",
      "[CV 4/5] END col_tr__text__vec__max_df=0.75, col_tr__text__vec__min_df=0.1, col_tr__text__vec__ngram_range=(1, 1), rf__class_weight=None, rf__max_depth=7, rf__min_samples_split=2, rf__n_estimators=300;, score=(train=0.843, test=0.499) total time=  10.2s\n",
      "[CV 5/5] END col_tr__text__vec__max_df=0.75, col_tr__text__vec__min_df=0.1, col_tr__text__vec__ngram_range=(1, 1), rf__class_weight=None, rf__max_depth=7, rf__min_samples_split=2, rf__n_estimators=300;, score=(train=0.850, test=0.506) total time=   9.1s\n",
      "[CV 1/5] END col_tr__text__vec__max_df=0.75, col_tr__text__vec__min_df=0.1, col_tr__text__vec__ngram_range=(1, 2), rf__class_weight=None, rf__max_depth=7, rf__min_samples_split=2, rf__n_estimators=300;, score=(train=0.842, test=0.498) total time=  17.9s\n",
      "[CV 2/5] END col_tr__text__vec__max_df=0.75, col_tr__text__vec__min_df=0.1, col_tr__text__vec__ngram_range=(1, 2), rf__class_weight=None, rf__max_depth=7, rf__min_samples_split=2, rf__n_estimators=300;, score=(train=0.844, test=0.537) total time=  16.9s\n",
      "[CV 3/5] END col_tr__text__vec__max_df=0.75, col_tr__text__vec__min_df=0.1, col_tr__text__vec__ngram_range=(1, 2), rf__class_weight=None, rf__max_depth=7, rf__min_samples_split=2, rf__n_estimators=300;, score=(train=0.843, test=0.497) total time=  16.8s\n",
      "[CV 4/5] END col_tr__text__vec__max_df=0.75, col_tr__text__vec__min_df=0.1, col_tr__text__vec__ngram_range=(1, 2), rf__class_weight=None, rf__max_depth=7, rf__min_samples_split=2, rf__n_estimators=300;, score=(train=0.837, test=0.492) total time=  16.8s\n",
      "[CV 5/5] END col_tr__text__vec__max_df=0.75, col_tr__text__vec__min_df=0.1, col_tr__text__vec__ngram_range=(1, 2), rf__class_weight=None, rf__max_depth=7, rf__min_samples_split=2, rf__n_estimators=300;, score=(train=0.846, test=0.496) total time=  16.7s\n"
     ]
    },
    {
     "data": {
      "text/html": [
       "<style>#sk-container-id-1 {color: black;}#sk-container-id-1 pre{padding: 0;}#sk-container-id-1 div.sk-toggleable {background-color: white;}#sk-container-id-1 label.sk-toggleable__label {cursor: pointer;display: block;width: 100%;margin-bottom: 0;padding: 0.3em;box-sizing: border-box;text-align: center;}#sk-container-id-1 label.sk-toggleable__label-arrow:before {content: \"▸\";float: left;margin-right: 0.25em;color: #696969;}#sk-container-id-1 label.sk-toggleable__label-arrow:hover:before {color: black;}#sk-container-id-1 div.sk-estimator:hover label.sk-toggleable__label-arrow:before {color: black;}#sk-container-id-1 div.sk-toggleable__content {max-height: 0;max-width: 0;overflow: hidden;text-align: left;background-color: #f0f8ff;}#sk-container-id-1 div.sk-toggleable__content pre {margin: 0.2em;color: black;border-radius: 0.25em;background-color: #f0f8ff;}#sk-container-id-1 input.sk-toggleable__control:checked~div.sk-toggleable__content {max-height: 200px;max-width: 100%;overflow: auto;}#sk-container-id-1 input.sk-toggleable__control:checked~label.sk-toggleable__label-arrow:before {content: \"▾\";}#sk-container-id-1 div.sk-estimator input.sk-toggleable__control:checked~label.sk-toggleable__label {background-color: #d4ebff;}#sk-container-id-1 div.sk-label input.sk-toggleable__control:checked~label.sk-toggleable__label {background-color: #d4ebff;}#sk-container-id-1 input.sk-hidden--visually {border: 0;clip: rect(1px 1px 1px 1px);clip: rect(1px, 1px, 1px, 1px);height: 1px;margin: -1px;overflow: hidden;padding: 0;position: absolute;width: 1px;}#sk-container-id-1 div.sk-estimator {font-family: monospace;background-color: #f0f8ff;border: 1px dotted black;border-radius: 0.25em;box-sizing: border-box;margin-bottom: 0.5em;}#sk-container-id-1 div.sk-estimator:hover {background-color: #d4ebff;}#sk-container-id-1 div.sk-parallel-item::after {content: \"\";width: 100%;border-bottom: 1px solid gray;flex-grow: 1;}#sk-container-id-1 div.sk-label:hover label.sk-toggleable__label {background-color: #d4ebff;}#sk-container-id-1 div.sk-serial::before {content: \"\";position: absolute;border-left: 1px solid gray;box-sizing: border-box;top: 0;bottom: 0;left: 50%;z-index: 0;}#sk-container-id-1 div.sk-serial {display: flex;flex-direction: column;align-items: center;background-color: white;padding-right: 0.2em;padding-left: 0.2em;position: relative;}#sk-container-id-1 div.sk-item {position: relative;z-index: 1;}#sk-container-id-1 div.sk-parallel {display: flex;align-items: stretch;justify-content: center;background-color: white;position: relative;}#sk-container-id-1 div.sk-item::before, #sk-container-id-1 div.sk-parallel-item::before {content: \"\";position: absolute;border-left: 1px solid gray;box-sizing: border-box;top: 0;bottom: 0;left: 50%;z-index: -1;}#sk-container-id-1 div.sk-parallel-item {display: flex;flex-direction: column;z-index: 1;position: relative;background-color: white;}#sk-container-id-1 div.sk-parallel-item:first-child::after {align-self: flex-end;width: 50%;}#sk-container-id-1 div.sk-parallel-item:last-child::after {align-self: flex-start;width: 50%;}#sk-container-id-1 div.sk-parallel-item:only-child::after {width: 0;}#sk-container-id-1 div.sk-dashed-wrapped {border: 1px dashed gray;margin: 0 0.4em 0.5em 0.4em;box-sizing: border-box;padding-bottom: 0.4em;background-color: white;}#sk-container-id-1 div.sk-label label {font-family: monospace;font-weight: bold;display: inline-block;line-height: 1.2em;}#sk-container-id-1 div.sk-label-container {text-align: center;}#sk-container-id-1 div.sk-container {/* jupyter's `normalize.less` sets `[hidden] { display: none; }` but bootstrap.min.css set `[hidden] { display: none !important; }` so we also need the `!important` here to be able to override the default hidden behavior on the sphinx rendered scikit-learn.org. See: https://github.com/scikit-learn/scikit-learn/issues/21755 */display: inline-block !important;position: relative;}#sk-container-id-1 div.sk-text-repr-fallback {display: none;}</style><div id=\"sk-container-id-1\" class=\"sk-top-container\"><div class=\"sk-text-repr-fallback\"><pre>GridSearchCV(cv=5,\n",
       "             estimator=Pipeline(steps=[(&#x27;col_tr&#x27;,\n",
       "                                        ColumnTransformer(remainder=&#x27;passthrough&#x27;,\n",
       "                                                          transformers=[(&#x27;text&#x27;,\n",
       "                                                                         Pipeline(steps=[(&#x27;vec&#x27;,\n",
       "                                                                                          TfidfVectorizer())]),\n",
       "                                                                         &#x27;processed_reviews&#x27;),\n",
       "                                                                        (&#x27;cat&#x27;,\n",
       "                                                                         Pipeline(steps=[(&#x27;ohe&#x27;,\n",
       "                                                                                          OneHotEncoder(handle_unknown=&#x27;ignore&#x27;,\n",
       "                                                                                                        sparse_output=False))]),\n",
       "                                                                         [&#x27;neighborhood&#x27;,\n",
       "                                                                          &#x27;property_type&#x27;])])),\n",
       "                                       (&#x27;rf&#x27;,\n",
       "                                        RandomForestClassifier(random_state=42))]),\n",
       "             param_grid={&#x27;col_tr__text__vec__max_df&#x27;: [0.75],\n",
       "                         &#x27;col_tr__text__vec__min_df&#x27;: [0.1],\n",
       "                         &#x27;col_tr__text__vec__ngram_range&#x27;: [(1, 1), (1, 2)],\n",
       "                         &#x27;rf__class_weight&#x27;: [None], &#x27;rf__max_depth&#x27;: [7],\n",
       "                         &#x27;rf__min_samples_split&#x27;: [2],\n",
       "                         &#x27;rf__n_estimators&#x27;: [300]},\n",
       "             return_train_score=True, scoring=&#x27;accuracy&#x27;, verbose=3)</pre><b>In a Jupyter environment, please rerun this cell to show the HTML representation or trust the notebook. <br />On GitHub, the HTML representation is unable to render, please try loading this page with nbviewer.org.</b></div><div class=\"sk-container\" hidden><div class=\"sk-item sk-dashed-wrapped\"><div class=\"sk-label-container\"><div class=\"sk-label sk-toggleable\"><input class=\"sk-toggleable__control sk-hidden--visually\" id=\"sk-estimator-id-1\" type=\"checkbox\" ><label for=\"sk-estimator-id-1\" class=\"sk-toggleable__label sk-toggleable__label-arrow\">GridSearchCV</label><div class=\"sk-toggleable__content\"><pre>GridSearchCV(cv=5,\n",
       "             estimator=Pipeline(steps=[(&#x27;col_tr&#x27;,\n",
       "                                        ColumnTransformer(remainder=&#x27;passthrough&#x27;,\n",
       "                                                          transformers=[(&#x27;text&#x27;,\n",
       "                                                                         Pipeline(steps=[(&#x27;vec&#x27;,\n",
       "                                                                                          TfidfVectorizer())]),\n",
       "                                                                         &#x27;processed_reviews&#x27;),\n",
       "                                                                        (&#x27;cat&#x27;,\n",
       "                                                                         Pipeline(steps=[(&#x27;ohe&#x27;,\n",
       "                                                                                          OneHotEncoder(handle_unknown=&#x27;ignore&#x27;,\n",
       "                                                                                                        sparse_output=False))]),\n",
       "                                                                         [&#x27;neighborhood&#x27;,\n",
       "                                                                          &#x27;property_type&#x27;])])),\n",
       "                                       (&#x27;rf&#x27;,\n",
       "                                        RandomForestClassifier(random_state=42))]),\n",
       "             param_grid={&#x27;col_tr__text__vec__max_df&#x27;: [0.75],\n",
       "                         &#x27;col_tr__text__vec__min_df&#x27;: [0.1],\n",
       "                         &#x27;col_tr__text__vec__ngram_range&#x27;: [(1, 1), (1, 2)],\n",
       "                         &#x27;rf__class_weight&#x27;: [None], &#x27;rf__max_depth&#x27;: [7],\n",
       "                         &#x27;rf__min_samples_split&#x27;: [2],\n",
       "                         &#x27;rf__n_estimators&#x27;: [300]},\n",
       "             return_train_score=True, scoring=&#x27;accuracy&#x27;, verbose=3)</pre></div></div></div><div class=\"sk-parallel\"><div class=\"sk-parallel-item\"><div class=\"sk-item\"><div class=\"sk-label-container\"><div class=\"sk-label sk-toggleable\"><input class=\"sk-toggleable__control sk-hidden--visually\" id=\"sk-estimator-id-2\" type=\"checkbox\" ><label for=\"sk-estimator-id-2\" class=\"sk-toggleable__label sk-toggleable__label-arrow\">estimator: Pipeline</label><div class=\"sk-toggleable__content\"><pre>Pipeline(steps=[(&#x27;col_tr&#x27;,\n",
       "                 ColumnTransformer(remainder=&#x27;passthrough&#x27;,\n",
       "                                   transformers=[(&#x27;text&#x27;,\n",
       "                                                  Pipeline(steps=[(&#x27;vec&#x27;,\n",
       "                                                                   TfidfVectorizer())]),\n",
       "                                                  &#x27;processed_reviews&#x27;),\n",
       "                                                 (&#x27;cat&#x27;,\n",
       "                                                  Pipeline(steps=[(&#x27;ohe&#x27;,\n",
       "                                                                   OneHotEncoder(handle_unknown=&#x27;ignore&#x27;,\n",
       "                                                                                 sparse_output=False))]),\n",
       "                                                  [&#x27;neighborhood&#x27;,\n",
       "                                                   &#x27;property_type&#x27;])])),\n",
       "                (&#x27;rf&#x27;, RandomForestClassifier(random_state=42))])</pre></div></div></div><div class=\"sk-serial\"><div class=\"sk-item\"><div class=\"sk-serial\"><div class=\"sk-item sk-dashed-wrapped\"><div class=\"sk-label-container\"><div class=\"sk-label sk-toggleable\"><input class=\"sk-toggleable__control sk-hidden--visually\" id=\"sk-estimator-id-3\" type=\"checkbox\" ><label for=\"sk-estimator-id-3\" class=\"sk-toggleable__label sk-toggleable__label-arrow\">col_tr: ColumnTransformer</label><div class=\"sk-toggleable__content\"><pre>ColumnTransformer(remainder=&#x27;passthrough&#x27;,\n",
       "                  transformers=[(&#x27;text&#x27;,\n",
       "                                 Pipeline(steps=[(&#x27;vec&#x27;, TfidfVectorizer())]),\n",
       "                                 &#x27;processed_reviews&#x27;),\n",
       "                                (&#x27;cat&#x27;,\n",
       "                                 Pipeline(steps=[(&#x27;ohe&#x27;,\n",
       "                                                  OneHotEncoder(handle_unknown=&#x27;ignore&#x27;,\n",
       "                                                                sparse_output=False))]),\n",
       "                                 [&#x27;neighborhood&#x27;, &#x27;property_type&#x27;])])</pre></div></div></div><div class=\"sk-parallel\"><div class=\"sk-parallel-item\"><div class=\"sk-item\"><div class=\"sk-label-container\"><div class=\"sk-label sk-toggleable\"><input class=\"sk-toggleable__control sk-hidden--visually\" id=\"sk-estimator-id-4\" type=\"checkbox\" ><label for=\"sk-estimator-id-4\" class=\"sk-toggleable__label sk-toggleable__label-arrow\">text</label><div class=\"sk-toggleable__content\"><pre>processed_reviews</pre></div></div></div><div class=\"sk-serial\"><div class=\"sk-item\"><div class=\"sk-serial\"><div class=\"sk-item\"><div class=\"sk-estimator sk-toggleable\"><input class=\"sk-toggleable__control sk-hidden--visually\" id=\"sk-estimator-id-5\" type=\"checkbox\" ><label for=\"sk-estimator-id-5\" class=\"sk-toggleable__label sk-toggleable__label-arrow\">TfidfVectorizer</label><div class=\"sk-toggleable__content\"><pre>TfidfVectorizer()</pre></div></div></div></div></div></div></div></div><div class=\"sk-parallel-item\"><div class=\"sk-item\"><div class=\"sk-label-container\"><div class=\"sk-label sk-toggleable\"><input class=\"sk-toggleable__control sk-hidden--visually\" id=\"sk-estimator-id-6\" type=\"checkbox\" ><label for=\"sk-estimator-id-6\" class=\"sk-toggleable__label sk-toggleable__label-arrow\">cat</label><div class=\"sk-toggleable__content\"><pre>[&#x27;neighborhood&#x27;, &#x27;property_type&#x27;]</pre></div></div></div><div class=\"sk-serial\"><div class=\"sk-item\"><div class=\"sk-serial\"><div class=\"sk-item\"><div class=\"sk-estimator sk-toggleable\"><input class=\"sk-toggleable__control sk-hidden--visually\" id=\"sk-estimator-id-7\" type=\"checkbox\" ><label for=\"sk-estimator-id-7\" class=\"sk-toggleable__label sk-toggleable__label-arrow\">OneHotEncoder</label><div class=\"sk-toggleable__content\"><pre>OneHotEncoder(handle_unknown=&#x27;ignore&#x27;, sparse_output=False)</pre></div></div></div></div></div></div></div></div><div class=\"sk-parallel-item\"><div class=\"sk-item\"><div class=\"sk-label-container\"><div class=\"sk-label sk-toggleable\"><input class=\"sk-toggleable__control sk-hidden--visually\" id=\"sk-estimator-id-8\" type=\"checkbox\" ><label for=\"sk-estimator-id-8\" class=\"sk-toggleable__label sk-toggleable__label-arrow\">remainder</label><div class=\"sk-toggleable__content\"><pre></pre></div></div></div><div class=\"sk-serial\"><div class=\"sk-item\"><div class=\"sk-estimator sk-toggleable\"><input class=\"sk-toggleable__control sk-hidden--visually\" id=\"sk-estimator-id-9\" type=\"checkbox\" ><label for=\"sk-estimator-id-9\" class=\"sk-toggleable__label sk-toggleable__label-arrow\">passthrough</label><div class=\"sk-toggleable__content\"><pre>passthrough</pre></div></div></div></div></div></div></div></div><div class=\"sk-item\"><div class=\"sk-estimator sk-toggleable\"><input class=\"sk-toggleable__control sk-hidden--visually\" id=\"sk-estimator-id-10\" type=\"checkbox\" ><label for=\"sk-estimator-id-10\" class=\"sk-toggleable__label sk-toggleable__label-arrow\">RandomForestClassifier</label><div class=\"sk-toggleable__content\"><pre>RandomForestClassifier(random_state=42)</pre></div></div></div></div></div></div></div></div></div></div></div></div>"
      ],
      "text/plain": [
       "GridSearchCV(cv=5,\n",
       "             estimator=Pipeline(steps=[('col_tr',\n",
       "                                        ColumnTransformer(remainder='passthrough',\n",
       "                                                          transformers=[('text',\n",
       "                                                                         Pipeline(steps=[('vec',\n",
       "                                                                                          TfidfVectorizer())]),\n",
       "                                                                         'processed_reviews'),\n",
       "                                                                        ('cat',\n",
       "                                                                         Pipeline(steps=[('ohe',\n",
       "                                                                                          OneHotEncoder(handle_unknown='ignore',\n",
       "                                                                                                        sparse_output=False))]),\n",
       "                                                                         ['neighborhood',\n",
       "                                                                          'property_type'])])),\n",
       "                                       ('rf',\n",
       "                                        RandomForestClassifier(random_state=42))]),\n",
       "             param_grid={'col_tr__text__vec__max_df': [0.75],\n",
       "                         'col_tr__text__vec__min_df': [0.1],\n",
       "                         'col_tr__text__vec__ngram_range': [(1, 1), (1, 2)],\n",
       "                         'rf__class_weight': [None], 'rf__max_depth': [7],\n",
       "                         'rf__min_samples_split': [2],\n",
       "                         'rf__n_estimators': [300]},\n",
       "             return_train_score=True, scoring='accuracy', verbose=3)"
      ]
     },
     "execution_count": 12,
     "metadata": {},
     "output_type": "execute_result"
    }
   ],
   "source": [
    "# Improve on the first GridSearch above. #BEFORE CHANGES\n",
    "# Define parameter grid for the Random Forest Model\n",
    "rf_param_grid3 = {\n",
    "    'rf__n_estimators': [300], \n",
    "    'rf__min_samples_split': [2], \n",
    "    'rf__max_depth': [7], \n",
    "    'rf__class_weight': [None], \n",
    "    'col_tr__text__vec__ngram_range': [(1, 1), (1,2)], \n",
    "    'col_tr__text__vec__min_df': [0.1], \n",
    "    'col_tr__text__vec__max_df': [.75] \n",
    "}\n",
    "\n",
    "# Instantiate GridSearch and fit it to training data\n",
    "forest_grid3 = GridSearchCV(pipe_rf3, rf_param_grid3, cv=5, verbose=3, \n",
    "                            return_train_score=True,\n",
    "                            scoring='accuracy')\n",
    "forest_grid3.fit(X_train3, y_train3)"
   ]
  },
  {
   "cell_type": "markdown",
   "metadata": {},
   "source": [
    "**Only a .2% increase in validation test score from the first GridSearch.**"
   ]
  },
  {
   "cell_type": "code",
   "execution_count": null,
   "metadata": {},
   "outputs": [],
   "source": [
    "#plot confusion matrix\n",
    "y_pred_rf_cv3 = cross_val_predict(pipe_rf3, X_train3, y_train3, cv=5)\n",
    "rf_conf_mat = confusion_matrix(y_train3, y_pred_rf_cv3)\n",
    "ConfusionMatrixDisplay(rf_conf_mat).plot();"
   ]
  },
  {
   "cell_type": "markdown",
   "metadata": {},
   "source": [
    "**Though our overall Accuracy score is 53%, if we look deeper, based on the above confusion matrix, our Accuracy for both the first and fourth class of price range is also near 70%.**"
   ]
  },
  {
   "cell_type": "markdown",
   "metadata": {},
   "source": [
    "### Group 3 Summary:\n",
    "**Best Models:**\n",
    "1. Untuned Logisitc Regression\n",
    "\n",
    "- CV Test Score: 54%\n",
    "- CV Train Score: 83%\n",
    "\n",
    "2. Tuned Random Forest\n",
    "\n",
    "- CV Test Score: 53%\n",
    "- CV Train Score: 100%\n",
    "\n",
    "\n",
    "Our tuned Logisitc Regression, improved by 1% to 54% after adding additional features. Our second best model, our Tuned Random Forest, was not far behind with 53%. Though our Logistic Regression had the highest validation score though its training score actually dropped from 99% down to 83% whereas our second-best model, Random Forest's, training score remained at 100%. **This suggests that our Random Forest Classifier may outperform the Logistic Regression as we pull in more features and data.**"
   ]
  },
  {
   "cell_type": "markdown",
   "metadata": {},
   "source": [
    "### FINAL MODELS:\n",
    "### Logisitc Regression #3 - Untuned"
   ]
  },
  {
   "cell_type": "code",
   "execution_count": 7,
   "metadata": {},
   "outputs": [],
   "source": [
    "# Best Logisitic Regression Model & Hyperparamters\n",
    "\n",
    "# column transformer for text and categorical data\n",
    "text_pipeline = Pipeline(steps=[('vec', TfidfVectorizer())])\n",
    "\n",
    "categorical_pipeline = Pipeline(steps=[('ohe', OneHotEncoder(sparse_output=False, handle_unknown='ignore'))])\n",
    "\n",
    "transformer2 = ColumnTransformer(transformers=[\n",
    "    ('text', text_pipeline, 'processed_reviews'),\n",
    "    ('cat', categorical_pipeline, ['neighborhood', 'property_type'])], remainder='passthrough')\n",
    "\n",
    "# instantiate pipeline for Logistic Regression with ColumnTransformer\n",
    "pipe_log3 = Pipeline([(\"col_tr\", transformer2), (\"log\", LogisticRegression(multi_class= 'multinomial', max_iter=10000))])\n",
    " \n",
    "log_best_score = 0.5414\n",
    "\n",
    "print(f\"Untuned Logisitc Regression Cross Validation Accuracy: {log_best_score*100:,.2f}%\")\n"
   ]
  },
  {
   "cell_type": "markdown",
   "metadata": {},
   "source": [
    "### Best Logistic Regression on Test Data"
   ]
  },
  {
   "cell_type": "code",
   "execution_count": 151,
   "metadata": {},
   "outputs": [],
   "source": [
    "pipe_log3.fit(X_train3, y_train3)\n",
    "y_pred_log_best = pipe_log3.predict(X_test3)\n",
    "log_best_test_acc = accuracy_score(y_test3, y_pred_log_best)\n",
    "log_best_test_acc\n",
    "# Logistic Regression TEST score = 55%"
   ]
  },
  {
   "cell_type": "markdown",
   "metadata": {},
   "source": [
    "### Random Forest #3 - Tuned"
   ]
  },
  {
   "cell_type": "code",
   "execution_count": null,
   "metadata": {},
   "outputs": [],
   "source": [
    "# Best Model & Hyperparamters\n",
    "\n",
    "rf_vectorizer_best_params = {\n",
    "    'col_tr__text__vec__max_df': 0.75,\n",
    "    'col_tr__text__vec__min_df': 0.1,\n",
    "    'col_tr__text__vec__ngram_range': (1, 1)\n",
    "}\n",
    "\n",
    "rf_best_params = {\n",
    "\n",
    "    'rf__class_weight': None,\n",
    "    'rf__max_depth': 100,\n",
    "    'rf__min_samples_split': 2,\n",
    "    'rf__n_estimators': 300\n",
    "}\n",
    "\n",
    "forest_best_score = 0.5279\n",
    "\n",
    "print(f\"Tuned Random Forest Cross Validation Accuracy: {forest_best_score*100:,.2f}%\")"
   ]
  },
  {
   "cell_type": "markdown",
   "metadata": {},
   "source": [
    "### Best Random Forest on Test Data"
   ]
  },
  {
   "cell_type": "code",
   "execution_count": 4,
   "metadata": {},
   "outputs": [],
   "source": [
    "pipe_rf3.fit(X_train3, y_train3)\n",
    "y_pred_rf_best = pipe_rf3.predict(X_test3)\n",
    "rf_best_test_acc = accuracy_score(y_test3, y_pred_rf_best)\n",
    "rf_best_test_acc\n",
    "# Random Forest TEST score = 53%"
   ]
  },
  {
   "cell_type": "markdown",
   "metadata": {},
   "source": [
    "### Feature Importances"
   ]
  },
  {
   "cell_type": "markdown",
   "metadata": {},
   "source": [
    "Let's extract the top 10 feature importances from our best performing Random Forest Classifier. Specifically we are looking at the feature importances of out `reviews`, text data, therefore our features will be specific words. In our top 10 we find words like 'nice', 'beautiful', 'great' and 'clean' which all have positive conotations. This indicates that our model relies more heavily on these positive words when making predictions about price."
   ]
  },
  {
   "cell_type": "code",
   "execution_count": 39,
   "metadata": {},
   "outputs": [
    {
     "data": {
      "text/html": [
       "<div>\n",
       "<style scoped>\n",
       "    .dataframe tbody tr th:only-of-type {\n",
       "        vertical-align: middle;\n",
       "    }\n",
       "\n",
       "    .dataframe tbody tr th {\n",
       "        vertical-align: top;\n",
       "    }\n",
       "\n",
       "    .dataframe thead th {\n",
       "        text-align: right;\n",
       "    }\n",
       "</style>\n",
       "<table border=\"1\" class=\"dataframe\">\n",
       "  <thead>\n",
       "    <tr style=\"text-align: right;\">\n",
       "      <th></th>\n",
       "      <th>feature_names</th>\n",
       "      <th>importances</th>\n",
       "    </tr>\n",
       "  </thead>\n",
       "  <tbody>\n",
       "    <tr>\n",
       "      <th>34861</th>\n",
       "      <td>place</td>\n",
       "      <td>0.005467</td>\n",
       "    </tr>\n",
       "    <tr>\n",
       "      <th>43726</th>\n",
       "      <td>stay</td>\n",
       "      <td>0.004200</td>\n",
       "    </tr>\n",
       "    <tr>\n",
       "      <th>31294</th>\n",
       "      <td>nice</td>\n",
       "      <td>0.004065</td>\n",
       "    </tr>\n",
       "    <tr>\n",
       "      <th>20159</th>\n",
       "      <td>great</td>\n",
       "      <td>0.004056</td>\n",
       "    </tr>\n",
       "    <tr>\n",
       "      <th>4721</th>\n",
       "      <td>beautiful</td>\n",
       "      <td>0.004030</td>\n",
       "    </tr>\n",
       "    <tr>\n",
       "      <th>8721</th>\n",
       "      <td>clean</td>\n",
       "      <td>0.004004</td>\n",
       "    </tr>\n",
       "    <tr>\n",
       "      <th>27222</th>\n",
       "      <td>location</td>\n",
       "      <td>0.003584</td>\n",
       "    </tr>\n",
       "    <tr>\n",
       "      <th>39665</th>\n",
       "      <td>room</td>\n",
       "      <td>0.003552</td>\n",
       "    </tr>\n",
       "    <tr>\n",
       "      <th>22048</th>\n",
       "      <td>host</td>\n",
       "      <td>0.003400</td>\n",
       "    </tr>\n",
       "    <tr>\n",
       "      <th>10736</th>\n",
       "      <td>cozy</td>\n",
       "      <td>0.003253</td>\n",
       "    </tr>\n",
       "  </tbody>\n",
       "</table>\n",
       "</div>"
      ],
      "text/plain": [
       "      feature_names  importances\n",
       "34861         place     0.005467\n",
       "43726          stay     0.004200\n",
       "31294          nice     0.004065\n",
       "20159         great     0.004056\n",
       "4721      beautiful     0.004030\n",
       "8721          clean     0.004004\n",
       "27222      location     0.003584\n",
       "39665          room     0.003552\n",
       "22048          host     0.003400\n",
       "10736          cozy     0.003253"
      ]
     },
     "execution_count": 39,
     "metadata": {},
     "output_type": "execute_result"
    }
   ],
   "source": [
    "# Extract the TfidfVectorizer from the pipeline\n",
    "tf_vec = pipe_rf3.named_steps['col_tr'].transformers[0][1]['vec']\n",
    "\n",
    "X_train_tf = tf_vec.fit_transform(X_train)\n",
    "\n",
    "#Get the feature names from the TfidfVectorizer\n",
    "feature_names = tf_vec.get_feature_names_out()\n",
    "\n",
    "# Extract the RandomForestClassifier from the pipeline\n",
    "rf = pipe_rf.named_steps['rf']\n",
    "\n",
    "rf.fit(X_train_tf, y_train)\n",
    "\n",
    "# Get the feature importances from the fitted RandomForestClassifier\n",
    "feature_importances = rf.feature_importances_\n",
    "\n",
    "# Create a DataFrame with the feature names and their corresponding importances\n",
    "importances_df = pd.DataFrame({\"feature_names\": feature_names, \"importances\": feature_importances})\n",
    "\n",
    "df_imp = importances_df.sort_values(by=['importances'], ascending=False)[0:10]\n",
    "df_imp"
   ]
  },
  {
   "cell_type": "code",
   "execution_count": 41,
   "metadata": {},
   "outputs": [],
   "source": [
    "df_imp.to_csv('data/feature_imp.csv')"
   ]
  },
  {
   "cell_type": "code",
   "execution_count": 129,
   "metadata": {},
   "outputs": [
    {
     "name": "stderr",
     "output_type": "stream",
     "text": [
      "/Users/jf/anaconda3/envs/learn-env/lib/python3.8/site-packages/seaborn/_decorators.py:36: FutureWarning: Pass the following variables as keyword args: x, y. From version 0.12, the only valid positional argument will be `data`, and passing other arguments without an explicit keyword will result in an error or misinterpretation.\n",
      "  warnings.warn(\n"
     ]
    },
    {
     "data": {
      "image/png": "[encoded data removed]",
      "text/plain": [
       "<Figure size 576x432 with 1 Axes>"
      ]
     },
     "metadata": {
      "needs_background": "light"
     },
     "output_type": "display_data"
    }
   ],
   "source": [
    "# plot bar of feature importances\n",
    "# size the plot\n",
    "plt.figure(figsize=(8,6))\n",
    "\n",
    "# plot using seaborn\n",
    "sns.barplot(df_imp.feature_names, df_imp.importances);"
   ]
  },
  {
   "cell_type": "markdown",
   "metadata": {},
   "source": [
    "## Evaluation"
   ]
  },
  {
   "cell_type": "markdown",
   "metadata": {},
   "source": [
    "- Typically, in a classficiation problem, a regression estimator such as Logistic Regression is less suited for the task as it assumes a linear relationship. Where as, its classifier counter parts such as Decision Trees and Random Forests are well suited for classification as they focus on feature selection - weighing important features more heavily. **It is interesting then that our Logisitc Regression had the highest accuracy score.** \n",
    "\n",
    "\n",
    "- That said, as we increased the number of features in our model to improve on our cross-validation test scores, our Logisitic Regression training scores actually dropped from 99% down to 83% where as our Random Forest model's (second best) training score remained at 100%. This suggests that as we pull in more features and more data our Random Forest Classifier may end up outperforming the Logistic Regression.\n",
    "\n",
    "\n",
    "- Our best model has a low accuracy score of 55%. This means that our model accurately predicts the actual price of a listing 55% of the time based on the chosen features.\n",
    "\n",
    "\n",
    "- Though our test scores were low, an important thing to note is that our training scores were as high as 100%. This means we could potentially get to a decent predictor by continuing to tune our model to increase our accruacy score."
   ]
  },
  {
   "cell_type": "markdown",
   "metadata": {},
   "source": [
    "## Conclusion\n",
    "### Recommendations"
   ]
  },
  {
   "cell_type": "markdown",
   "metadata": {},
   "source": [
    "1. **Unreliable Model** - At this point in time, this predictive model is not reliable enough to solve The Manhattan Beach Group's business problem of optimizing per night price point setting. Implementing a price prediction model with an accuracy score just over 50% is not a feasible business strategy.\n",
    "\n",
    "\n",
    "2. **Use Model For Specific Classes** - Though our overall Accuracy score for our best model is 55%, as mentioned above, if we look deeper, our Accuracy for both the first and fourth class of price ranges is near 70%. We recommend price setting based on our models' predictions only if it predicts the first or fourth class of price ranges - and even then, take the predictions with a grain of salt as again, the model is only 70% accurate in those cases.\n"
   ]
  },
  {
   "cell_type": "markdown",
   "metadata": {},
   "source": [
    "### Next Steps\n",
    "1. **Potential for a good predictor** - Though our current model falls short, as noted in our evaluation, there is potential for a good model to be developed. The biggest barrier that we faced was extremely long model tuning times. Given more time we are confident we can improve our model enough to make it a good price predictor. Specifically, we believe that working with a much larger data set could help our model generalize better. This could be easily achieved as Airbnb data is widely accessible.\n",
    "\n",
    "2. **Parallel Analysis** - Seeing that there are over 70 distinct features in Airbnb Listings data, we recommend funding a parallel analysis that focuses on these features rather than the written reviews for each listing.\n",
    "\n",
    "3. **Advanced Data Processing** - Given more time we would implement more advanced data processing techniques. Specifically, we would utilize pre-trained text processing models such BERT, a deep learning model developed specifically for text classification."
   ]
  },
  {
   "cell_type": "code",
   "execution_count": null,
   "metadata": {},
   "outputs": [],
   "source": []
  }
 ],
 "metadata": {
  "kernelspec": {
   "display_name": "Python (learn-env)",
   "language": "python",
   "name": "learn-env"
  },
  "language_info": {
   "codemirror_mode": {
    "name": "ipython",
    "version": 3
   },
   "file_extension": ".py",
   "mimetype": "text/x-python",
   "name": "python",
   "nbconvert_exporter": "python",
   "pygments_lexer": "ipython3",
   "version": "3.8.5"
  }
 },
 "nbformat": 4,
 "nbformat_minor": 4
}
